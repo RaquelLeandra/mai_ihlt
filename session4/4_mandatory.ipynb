{
 "cells": [
  {
   "cell_type": "markdown",
   "metadata": {},
   "source": [
    "# Mandatory exercise "
   ]
  },
  {
   "cell_type": "code",
   "execution_count": 3,
   "metadata": {},
   "outputs": [],
   "source": [
    "from nltk.tag.hmm import HiddenMarkovModelTrainer\n",
    "from nltk.corpus import treebank\n",
    "from nltk.tag import tnt\n",
    "from nltk.tag.perceptron import PerceptronTagger\n",
    "from nltk.tag import CRFTagger\n",
    "from time import process_time"
   ]
  },
  {
   "cell_type": "markdown",
   "metadata": {},
   "source": [
    "The next class is used to define each one of the models in a common class. It contains functions to evaluate and train the model as well as the attributes to save the time and train data size, the name and finally, the accuracy (after the evaluation took place).\n",
    "\n",
    "The models are:\n",
    "* Hidden Markov Model (HMM)\n",
    "* Trigrams'n'Tags (TnT)\n",
    "* Perceptron (PER)\n",
    "* Conditional Random Field (CRF)\n",
    "\n",
    "We also define an array with these names to create the POSTagger instaces"
   ]
  },
  {
   "cell_type": "code",
   "execution_count": 4,
   "metadata": {},
   "outputs": [],
   "source": [
    "class POSTagger:\n",
    "    def __init__(self, name):\n",
    "        self.name = name\n",
    "        self.accuracy = 0\n",
    "        self.time = 0\n",
    "        self.train_size = 0\n",
    "        self.model = None\n",
    "    \n",
    "    def evaluate(self, test_data):\n",
    "        self.accuracy = self.model.evaluate(test_data)\n",
    "        \n",
    "    def train(self, train_data):\n",
    "        start = process_time()\n",
    "        self.train_size = len(train_data)\n",
    "        if self.name == 'HMM': \n",
    "            self.model = HiddenMarkovModelTrainer().train_supervised(train_data)\n",
    "        elif self.name == 'TnT':\n",
    "            self.model = tnt.TnT()\n",
    "            self.model.train(i)\n",
    "        elif self.name == 'PER':\n",
    "            self.model = PerceptronTagger(load=False)\n",
    "            self.model.train(i)\n",
    "        elif self.name == 'CRF':\n",
    "            self.model = CRFTagger()\n",
    "            self.model.train(i, 'crf_tagger_model')\n",
    "        self.time = process_time() - start\n",
    "        print(self.name, 'trained for size', self.train_size)\n",
    "            \n",
    "model_names = ['HMM', 'TnT', 'PER', 'CRF']"
   ]
  },
  {
   "cell_type": "markdown",
   "metadata": {},
   "source": [
    "Next, we read the sentences tagged to train and test our models"
   ]
  },
  {
   "cell_type": "code",
   "execution_count": 5,
   "metadata": {},
   "outputs": [
    {
     "name": "stdout",
     "output_type": "stream",
     "text": [
      "Train data with size 500 ready\n",
      "Train data with size 1000 ready\n",
      "Train data with size 1500 ready\n",
      "Train data with size 2000 ready\n",
      "Train data with size 2500 ready\n",
      "Train data with size 3000 ready\n"
     ]
    }
   ],
   "source": [
    "train_size = [500, 1000, 1500, 2000, 2500, 3000]\n",
    "all_sents  = treebank.tagged_sents()\n",
    "test_data  = all_sents[3000:]\n",
    "train_data = []\n",
    "\n",
    "for i in train_size:\n",
    "    train_data.append(all_sents[:i])\n",
    "    print('Train data with size %d ready' % i)"
   ]
  },
  {
   "cell_type": "markdown",
   "metadata": {},
   "source": [
    "Now the training for the models take place. For each train data (size 500, size 1000, ...) and for each model type (HMM, TnT, ...) a new instance is created and trained."
   ]
  },
  {
   "cell_type": "code",
   "execution_count": 5,
   "metadata": {},
   "outputs": [
    {
     "name": "stdout",
     "output_type": "stream",
     "text": [
      "HMM trained for size 500\n",
      "TnT trained for size 500\n",
      "PER trained for size 500\n",
      "CRF trained for size 500\n",
      "HMM trained for size 1000\n",
      "TnT trained for size 1000\n",
      "PER trained for size 1000\n",
      "CRF trained for size 1000\n",
      "HMM trained for size 1500\n",
      "TnT trained for size 1500\n",
      "PER trained for size 1500\n",
      "CRF trained for size 1500\n",
      "HMM trained for size 2000\n",
      "TnT trained for size 2000\n",
      "PER trained for size 2000\n",
      "CRF trained for size 2000\n",
      "HMM trained for size 2500\n",
      "TnT trained for size 2500\n",
      "PER trained for size 2500\n",
      "CRF trained for size 2500\n",
      "HMM trained for size 3000\n",
      "TnT trained for size 3000\n",
      "PER trained for size 3000\n",
      "CRF trained for size 3000\n"
     ]
    }
   ],
   "source": [
    "models = {\n",
    "    'HMM': [],\n",
    "    'TnT': [],\n",
    "    'PER': [],\n",
    "    'CRF': []\n",
    "}\n",
    "\n",
    "for i in train_data:\n",
    "    for name in model_names:\n",
    "        models[name].append(POSTagger(name))\n",
    "        models[name][-1].train(i)"
   ]
  },
  {
   "cell_type": "markdown",
   "metadata": {},
   "source": [
    "Now the evaluation takes place, each model is evaluated against the test data (after the evaluation, the POSTagger class automaticaly calculates the accuracy)."
   ]
  },
  {
   "cell_type": "code",
   "execution_count": 6,
   "metadata": {},
   "outputs": [
    {
     "name": "stdout",
     "output_type": "stream",
     "text": [
      "All HMM models tested\n",
      "All TnT models tested\n",
      "All PER models tested\n",
      "All CRF models tested\n"
     ]
    }
   ],
   "source": [
    "for name in models:\n",
    "    for model in models[name]:\n",
    "        model.evaluate(test_data)\n",
    "    print('All', name, 'models tested')"
   ]
  },
  {
   "cell_type": "markdown",
   "metadata": {},
   "source": [
    "Finally, we create the graphs using the values calculated during the training and the evaluation (explanation bellow)."
   ]
  },
  {
   "cell_type": "code",
   "execution_count": 11,
   "metadata": {},
   "outputs": [
    {
     "data": {
      "image/png": "[encoded data removed]",
      "text/plain": [
       "<Figure size 1080x360 with 1 Axes>"
      ]
     },
     "metadata": {},
     "output_type": "display_data"
    }
   ],
   "source": [
    "%matplotlib inline\n",
    "import matplotlib.pyplot as plt\n",
    "\n",
    "plt.rcParams[\"figure.figsize\"] = [15, 5]\n",
    "\n",
    "colors = ['r', 'g', 'b', 'c']\n",
    "color_idx = 0\n",
    "\n",
    "for name in models:\n",
    "    x = []\n",
    "    y = []\n",
    "    for model in models[name]:\n",
    "        x.append(model.train_size)\n",
    "        y.append(model.accuracy)\n",
    "    plt.plot(x, y, colors[color_idx] + \"2-\", label=name)\n",
    "    color_idx += 1\n",
    "\n",
    "plt.grid()\n",
    "plt.title(\"Accuracy (%) vs train size\")\n",
    "plt.legend(loc='best')\n",
    "plt.show()"
   ]
  },
  {
   "cell_type": "markdown",
   "metadata": {},
   "source": [
    "In this graph, the HMM performs pretty bad in comparision with the other three models, where the PER and CRF models seems to give a great result. The HMM model seems to grow lineary while the others seem to grow logarithmicaly, but it will probably behave logarithmicaly slowly approaching the 100% when (if) the accuracy reachs the 80-90%.\n",
    "\n",
    "However, if \"lower\" accuracy is ok, the TnT model is better than the PER and CRF models, because as seen in the next graph, its training time is much smaller than that one from the PER and CRF"
   ]
  },
  {
   "cell_type": "code",
   "execution_count": 12,
   "metadata": {},
   "outputs": [
    {
     "data": {
      "image/png": "[encoded data removed]",
      "text/plain": [
       "<Figure size 1080x360 with 1 Axes>"
      ]
     },
     "metadata": {},
     "output_type": "display_data"
    }
   ],
   "source": [
    "color_idx = 0\n",
    "\n",
    "plt.rcParams[\"figure.figsize\"] = [15, 5]\n",
    "\n",
    "for name in models:\n",
    "    x = []\n",
    "    y = []\n",
    "    for model in models[name]:\n",
    "        x.append(model.train_size)\n",
    "        y.append(model.time)\n",
    "    plt.plot(x, y, colors[color_idx] + \"2-\", label=name)\n",
    "    color_idx += 1\n",
    "\n",
    "plt.grid()\n",
    "plt.title(\"Time (s) vs train size\")\n",
    "plt.legend(loc='best')\n",
    "plt.show()"
   ]
  }
 ],
 "metadata": {
  "kernelspec": {
   "display_name": "Python 3",
   "language": "python",
   "name": "python3"
  },
  "language_info": {
   "codemirror_mode": {
    "name": "ipython",
    "version": 3
   },
   "file_extension": ".py",
   "mimetype": "text/x-python",
   "name": "python",
   "nbconvert_exporter": "python",
   "pygments_lexer": "ipython3",
   "version": "3.6.5"
  }
 },
 "nbformat": 4,
 "nbformat_minor": 2
}
