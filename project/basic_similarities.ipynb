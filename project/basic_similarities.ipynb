{
 "cells": [
  {
   "cell_type": "code",
   "execution_count": 1,
   "metadata": {},
   "outputs": [],
   "source": [
    "import pandas as pd\n",
    "import csv\n",
    "from scipy.stats import pearsonr\n",
    "from metrics import jaccard_sim, cosine_sim, overlap_sim, dice_sim, sim_stats_dataframe\n",
    "from copy import deepcopy"
   ]
  },
  {
   "cell_type": "code",
   "execution_count": 2,
   "metadata": {},
   "outputs": [
    {
     "name": "stdout",
     "output_type": "stream",
     "text": [
      "750 \tTrain sentences loaded.\n",
      "750 \tTest sentences loaded.\n"
     ]
    }
   ],
   "source": [
    "train_path    = 'data/train/STS.input.MSRpar.txt'\n",
    "train_gs_path = 'data/train/STS.gs.MSRpar.txt'\n",
    "test_path     = 'data/test-gold/STS.input.MSRpar.txt'\n",
    "test_gs_path  = 'data/test-gold/STS.gs.MSRpar.txt'\n",
    "\n",
    "train = {\n",
    "    'df': pd.read_csv(train_path,    sep='\\t', lineterminator='\\n', header=None, names=['sentence0','sentence1'], quoting=csv.QUOTE_NONE),\n",
    "    'gs': pd.read_csv(train_gs_path, sep='\\t', lineterminator='\\n', header=None, names=['labels'], )\n",
    "}\n",
    "\n",
    "test = {\n",
    "    'df': pd.read_csv(test_path,    sep='\\t', lineterminator='\\n', header=None, names=['sentence0','sentence1'], quoting=csv.QUOTE_NONE),\n",
    "    'gs': pd.read_csv(test_gs_path, sep='\\t', lineterminator='\\n', header=None, names=['labels'])\n",
    "}\n",
    "\n",
    "print(len(train['df']), '\\tTrain sentences loaded.')\n",
    "print(len(test['df']),  '\\tTest sentences loaded.')"
   ]
  },
  {
   "cell_type": "code",
   "execution_count": 3,
   "metadata": {},
   "outputs": [
    {
     "name": "stdout",
     "output_type": "stream",
     "text": [
      "Pearson correlation (using jaccard): -0.41972707102507534\n",
      "Pearson correlation (using cosine ): -0.42120459610420796\n",
      "Pearson correlation (using overlap): -0.3881195831647516\n",
      "Pearson correlation (using dice   ): -0.4229668449844397\n"
     ]
    }
   ],
   "source": [
    "tokenized_df = deepcopy(train['df']).fillna('')\n",
    "for column in tokenized_df.columns:\n",
    "    tokenized_df[column] = tokenized_df[column].apply(lambda x: x.split(' '))\n",
    "\n",
    "sim_stats_dataframe(tokenized_df, train['gs'])"
   ]
  }
 ],
 "metadata": {
  "kernelspec": {
   "display_name": "Python 3",
   "language": "python",
   "name": "python3"
  },
  "language_info": {
   "codemirror_mode": {
    "name": "ipython",
    "version": 3
   },
   "file_extension": ".py",
   "mimetype": "text/x-python",
   "name": "python",
   "nbconvert_exporter": "python",
   "pygments_lexer": "ipython3",
   "version": "3.6.5"
  }
 },
 "nbformat": 4,
 "nbformat_minor": 2
}
