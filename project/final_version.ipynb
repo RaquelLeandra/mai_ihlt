{
 "cells": [
  {
   "cell_type": "markdown",
   "metadata": {},
   "source": [
    "# Semantic Textual Similarity in SemEval 2012 RESULT: 0.78~"
   ]
  },
  {
   "cell_type": "markdown",
   "metadata": {},
   "source": [
    "SemEval (Semantic Evaluation Exercises) are a series of workshops which have\n",
    "the main aim of the evaluation and comparison of semantic analysis systems.\n",
    "The data and corpora provided by them have become a ’de facto’ set of benchmarks\n",
    "for the NLP comunity.\n",
    "The SemEval event provide data and evaluation frameworks for several tasks.\n",
    "One of them is Semantic Textual Similarity (STS), the purpose of this project.\n",
    "All information of 2012’s edition is available at:\n",
    "https://www.cs.york.ac.uk/semeval-2012/"
   ]
  },
  {
   "cell_type": "code",
   "execution_count": 1,
   "metadata": {},
   "outputs": [],
   "source": [
    "%matplotlib inline\n",
    "import matplotlib.pyplot as plt\n",
    "from beautifultable import BeautifulTable\n",
    "\n",
    "import os\n",
    "from os import listdir, path as pth\n",
    "import warnings\n",
    "warnings.filterwarnings('ignore')\n",
    "\n",
    "\n",
    "import pandas as pd\n",
    "import csv\n",
    "\n",
    "import numpy as np\n",
    "from scipy.stats import pearsonr\n",
    "from nltk import word_tokenize\n",
    "from nltk.stem import WordNetLemmatizer\n",
    "from autocorrect import spell\n",
    "from nltk.tag import PerceptronTagger\n",
    "from nltk.corpus import wordnet as wn\n",
    "from nltk import word_tokenize\n",
    "import nltk\n",
    "import re\n",
    "import nltk, string\n",
    "from nltk import pos_tag\n",
    "from nltk.metrics import jaccard_distance\n",
    "from nltk.corpus import wordnet_ic\n",
    "from nltk.corpus import wordnet as wn\n",
    "from nltk.tag import PerceptronTagger\n",
    "from nltk.stem import WordNetLemmatizer\n",
    "from nltk.tokenize import WhitespaceTokenizer\n",
    "from nltk.corpus import stopwords\n",
    "\n",
    "import gensim\n",
    "from gensim import corpora\n",
    "\n",
    "from sklearn.feature_extraction.text import TfidfVectorizer\n",
    "from sklearn.ensemble import RandomForestRegressor\n",
    "from sklearn.svm import SVR\n",
    "from sklearn.metrics.pairwise import cosine_similarity as cs\n",
    "from sklearn.metrics.pairwise import manhattan_distances as md\n",
    "from sklearn.metrics.pairwise import euclidean_distances as ed\n",
    "from sklearn.metrics import jaccard_similarity_score as jsc\n",
    "from sklearn.neighbors import DistanceMetric\n",
    "from sklearn.preprocessing import StandardScaler\n",
    "from sklearn.model_selection import GridSearchCV\n",
    "from sklearn.neural_network import MLPRegressor\n"
   ]
  },
  {
   "cell_type": "markdown",
   "metadata": {},
   "source": [
    "First set some variables needed, the lemmatizer, the tagger (using percentron, as seen in seassion 4 is the best). The scaler for the features extracted from the text and the corpus brown_ic"
   ]
  },
  {
   "cell_type": "code",
   "execution_count": 2,
   "metadata": {},
   "outputs": [],
   "source": [
    "lemmatizer = WordNetLemmatizer()\n",
    "tagger = PerceptronTagger()\n",
    "en_stopwords = list(stopwords.words('english'))\n",
    "scaler = StandardScaler()\n",
    "brown_ic = wordnet_ic.ic('ic-brown.dat')"
   ]
  },
  {
   "cell_type": "markdown",
   "metadata": {},
   "source": [
    "## Load and concatenate the datasets:\n",
    "This is the first step. Change the train_path and test_path accordingly. Note that in windows the full path and the double back slash (\\\\\\\\) is needed"
   ]
  },
  {
   "cell_type": "code",
   "execution_count": 3,
   "metadata": {},
   "outputs": [
    {
     "name": "stdout",
     "output_type": "stream",
     "text": [
      "D:\\Users\\jsier\\Desktop\\MAI\\mai_ihlt\\project\\data\\train\\STS.input.MSRpar.txt\n",
      "D:\\Users\\jsier\\Desktop\\MAI\\mai_ihlt\\project\\data\\train\\STS.gs.MSRpar.txt\n",
      "D:\\Users\\jsier\\Desktop\\MAI\\mai_ihlt\\project\\data\\train\\STS.input.MSRvid.txt\n",
      "D:\\Users\\jsier\\Desktop\\MAI\\mai_ihlt\\project\\data\\train\\STS.gs.MSRvid.txt\n",
      "D:\\Users\\jsier\\Desktop\\MAI\\mai_ihlt\\project\\data\\train\\STS.input.SMTeuroparl.txt\n",
      "D:\\Users\\jsier\\Desktop\\MAI\\mai_ihlt\\project\\data\\train\\STS.gs.SMTeuroparl.txt\n",
      "D:\\Users\\jsier\\Desktop\\MAI\\mai_ihlt\\project\\data\\test-gold\\STS.input.MSRpar.txt\n",
      "D:\\Users\\jsier\\Desktop\\MAI\\mai_ihlt\\project\\data\\test-gold\\STS.gs.MSRpar.txt\n",
      "D:\\Users\\jsier\\Desktop\\MAI\\mai_ihlt\\project\\data\\test-gold\\STS.input.MSRvid.txt\n",
      "D:\\Users\\jsier\\Desktop\\MAI\\mai_ihlt\\project\\data\\test-gold\\STS.gs.MSRvid.txt\n",
      "D:\\Users\\jsier\\Desktop\\MAI\\mai_ihlt\\project\\data\\test-gold\\STS.input.SMTeuroparl.txt\n",
      "D:\\Users\\jsier\\Desktop\\MAI\\mai_ihlt\\project\\data\\test-gold\\STS.gs.SMTeuroparl.txt\n",
      "D:\\Users\\jsier\\Desktop\\MAI\\mai_ihlt\\project\\data\\test-gold\\STS.input.surprise.OnWN.txt\n",
      "D:\\Users\\jsier\\Desktop\\MAI\\mai_ihlt\\project\\data\\test-gold\\STS.gs.surprise.OnWN.txt\n",
      "D:\\Users\\jsier\\Desktop\\MAI\\mai_ihlt\\project\\data\\test-gold\\STS.input.surprise.SMTnews.txt\n",
      "D:\\Users\\jsier\\Desktop\\MAI\\mai_ihlt\\project\\data\\test-gold\\STS.gs.surprise.SMTnews.txt\n",
      "Train: (2234, 2) Test: (3108, 2)\n",
      "                                           sentence0  \\\n",
      "0  But other sources close to the sale said Viven...   \n",
      "1  Micron has declared its first quarterly profit...   \n",
      "2  The fines are part of failed Republican effort...   \n",
      "3  The American Anglican Council, which represent...   \n",
      "4  The tech-loaded Nasdaq composite rose 20.96 po...   \n",
      "\n",
      "                                           sentence1  \n",
      "0  But other sources close to the sale said Viven...  \n",
      "1  Micron's numbers also marked the first quarter...  \n",
      "2  Perry said he backs the Senate's efforts, incl...  \n",
      "3  The American Anglican Council, which represent...  \n",
      "4  The technology-laced Nasdaq Composite Index <....  \n"
     ]
    }
   ],
   "source": [
    "train_path = 'D:\\\\Users\\\\jsier\\\\Desktop\\\\MAI\\\\mai_ihlt\\\\project\\\\data\\\\train\\\\'\n",
    "test_path = 'D:\\\\Users\\\\jsier\\\\Desktop\\\\MAI\\\\mai_ihlt\\\\project\\\\data\\\\test-gold\\\\'\n",
    "\n",
    "def load_and_concat(data_path):\n",
    "    files = listdir(data_path)\n",
    "    input = pd.DataFrame(columns=['sentence0', 'sentence1'])\n",
    "    label = pd.DataFrame(columns=['labels'])\n",
    "    for file in files:\n",
    "        path = pth.join(data_path, file)\n",
    "        path_gs = path.replace('input', 'gs')\n",
    "        if 'STS.input' in path:  # Only read input files\n",
    "            print(path)\n",
    "            print(path_gs)\n",
    "            input_df = pd.read_csv(path, sep='\\t', lineterminator='\\n', names=['sentence0', 'sentence1'], header=None, quoting=csv.QUOTE_NONE)\n",
    "            label_df = pd.read_csv(path_gs, sep='\\t', lineterminator='\\n', names=['labels'], header=None, quoting=csv.QUOTE_NONE)\n",
    "            input = input.append(input_df)\n",
    "            label = label.append(label_df)\n",
    "\n",
    "    return \\\n",
    "        input.fillna('').reset_index(drop=True), \\\n",
    "        label.fillna('').reset_index(drop=True)\n",
    "\n",
    "\n",
    "trn, trn_gs = load_and_concat(train_path)\n",
    "tst, tst_gs = load_and_concat(test_path)\n",
    "\n",
    "print('Train: {0} Test: {1}'.format(trn.shape, tst.shape))\n",
    "print(trn.head())"
   ]
  },
  {
   "cell_type": "markdown",
   "metadata": {},
   "source": [
    "## First part of the preprocessing\n",
    "The main function here is preprocessor_run which runs the first part of the preprocessing. It tokenizes the text, autorrects spell mistakes (Note ! Auto-correct is very slow, disabled by default). Then the preprocessor_remover takes away some symbols and stopwords, the tagger makes it work and then the lemmatizer.\n",
    "\n",
    "The next step is expained later: preprocessor_meaning\n",
    "The last part, just removes the tags and converts it into a normal vector again"
   ]
  },
  {
   "cell_type": "code",
   "execution_count": 4,
   "metadata": {},
   "outputs": [],
   "source": [
    "def preprocessor_run(data):\n",
    "    data = data.copy()\n",
    "\n",
    "    auto_correct_remaining = len(data.index) * len(data.columns)\n",
    "    for column in data.columns:\n",
    "        data[column] = data[column].apply(word_tokenize)\n",
    "        #data[column] = data[column].apply(preprocessor_auto_correct)\n",
    "        data[column] = data[column].apply(preprocessor_remover)  # Remove stop words and symbols\n",
    "        data[column] = data[column].apply(tagger.tag)\n",
    "        data[column] = data[column].apply(preprocessor_lemmatize)\n",
    "    print()\n",
    "\n",
    "    for _, row in data.iterrows():\n",
    "        preprocessor_meaning(row)\n",
    "\n",
    "    for column in data.columns:\n",
    "        data[column] = data[column].apply(preprocessor_revectorize)\n",
    "\n",
    "    return data\n",
    "\n",
    "def penn_to_wn(tag):\n",
    "    if tag in ['JJ', 'JJR', 'JJS']:\n",
    "        return wn.ADJ\n",
    "    elif tag in ['NN', 'NNS', 'NNP', 'NNPS']:\n",
    "        return wn.NOUN\n",
    "    elif tag in ['RB', 'RBR', 'RBS']:\n",
    "        return wn.ADV\n",
    "    elif tag in ['VB', 'VBD', 'VBG', 'VBN', 'VBP', 'VBZ']:\n",
    "        return wn.VERB\n",
    "    return wn.NOUN\n",
    "\n",
    "auto_correct_remaining = 0\n",
    "def preprocessor_auto_correct(vector):\n",
    "    auto_correct_remaining -= 1\n",
    "    print('\\rSpell auto-correct...', auto_correct_remaining, 'sentences remain', end='    ', flush=True)\n",
    "    return [spell(word) for word in vector]\n",
    "\n",
    "def preprocessor_lemmatize(tagged):\n",
    "    result = []\n",
    "    for word, tag in tagged:\n",
    "        # A verb for sure if it ends in ing (?).\n",
    "        # Sometimes, verbs are wrongly classified, for example, \"A man is smoking\" (Smoking => Noun)\n",
    "        if word.endswith('ing'):\n",
    "            tag = 'VB'\n",
    "        lemma = lemmatizer.lemmatize(word, penn_to_wn(tag))\n",
    "        result.append((lemma, tag))\n",
    "    return result\n",
    "\n",
    "def preprocessor_remover(vector):\n",
    "    new_vector = []\n",
    "    for word in vector:\n",
    "        word = re.sub(r'\\.\\d+', '', word)  # Remove decimals\n",
    "        word = re.sub(r'\\W+', '', word)  # Remove symbols\n",
    "        word = re.sub(r'\\s+', ' ', word)  # Replace multiple spaces by one\n",
    "        word = re.sub(r'^\\s+|\\s+$', '', word) # Trim spaces\n",
    "\n",
    "        if word and not (word in en_stopwords):\n",
    "            new_vector.append(word)\n",
    "\n",
    "    return new_vector\n",
    "\n",
    "\n",
    "def preprocessor_revectorize(tagged): # And remove final s\n",
    "    return [re.sub('s$', '', word).lower() for word, tag in tagged]"
   ]
  },
  {
   "cell_type": "markdown",
   "metadata": {},
   "source": [
    "To be able to use the preprocessor_meaning, some code from seassion 5 (optional 1), have been used. Finds the shortest path between two synsets"
   ]
  },
  {
   "cell_type": "code",
   "execution_count": 5,
   "metadata": {},
   "outputs": [],
   "source": [
    "def genData(word):\n",
    "    hyper   = lambda s: s.hypernyms()\n",
    "    synset  = wn.synset(word)\n",
    "    tree    = synset.tree(hyper)\n",
    "    closure = synset.closure(hyper)\n",
    "    return tree, list(closure)\n",
    "\n",
    "\n",
    "def listIntersec(list1, list2):\n",
    "    return list(set(list1).intersection(set(list2)))\n",
    "\n",
    "\n",
    "def pathTo(synset, tree, path=None):\n",
    "    if path is None:\n",
    "        path = []\n",
    "\n",
    "    path += [tree[0]]\n",
    "\n",
    "    if tree[0] == synset:\n",
    "        return True, path  # Found\n",
    "\n",
    "    for i in range(1, len(tree)):\n",
    "        found, path = pathTo(synset, tree[i], path)\n",
    "        if found: return True, path  # Found in child\n",
    "\n",
    "    return False, path  # Not found\n",
    "\n",
    "\n",
    "def lex_compare(A, B):\n",
    "    treeA, closureA = genData(A)\n",
    "    treeB, closureB = genData(B)\n",
    "    closureA += [treeA[0]]  # Include the root in the closure\n",
    "    closureB += [treeB[0]]  # Include the root in the closure\n",
    "    common_hyper = listIntersec(closureA, closureB)  # Find which common hypernyms they both have in common\n",
    "\n",
    "    min_dist = float('+inf')\n",
    "    min_common = None\n",
    "    min_pathA = []\n",
    "    min_pathB = []\n",
    "\n",
    "    for i in common_hyper:  # For each common hypernym, find the path from the root to the hypernym for both synsets\n",
    "        pathA = pathTo(i, treeA, [])[1]\n",
    "        pathB = pathTo(i, treeB, [])[1]\n",
    "        dist = len(pathA) + len(pathB) - 2\n",
    "        if dist < min_dist:  # If the total path is better than the one we had before, update it\n",
    "            min_dist = dist\n",
    "            min_common = i\n",
    "            min_pathA = pathA\n",
    "            min_pathB = pathB\n",
    "\n",
    "    full_path = min_pathA[:-1] + min_pathB[::-1]  # Remove the repeated common word\n",
    "    return full_path, min_common, min_dist"
   ]
  },
  {
   "cell_type": "markdown",
   "metadata": {},
   "source": [
    "Now, the preprocessor_meaning function can be seen. It finds words that have a similar meaning"
   ]
  },
  {
   "cell_type": "code",
   "execution_count": 6,
   "metadata": {},
   "outputs": [],
   "source": [
    "def preprocessor_meaning(row):\n",
    "\n",
    "    s1 = row['sentence0']\n",
    "    s2 = row['sentence1']\n",
    "\n",
    "    for i1, (token1, tag1) in enumerate(s1):\n",
    "        for i2, (token2, tag2) in enumerate(s2):\n",
    "            if tag1 != 'DT' and tag2 != 'DT' and token1 != token2 and not is_number(token1) and not is_number(token2):\n",
    "                # Check common starting or ending\n",
    "                if  common_start(token1, token2) > 2 or common_end(token1, token2) > 3:\n",
    "                    s1[i1] = (token1, tag1)\n",
    "                    s2[i2] = (token1, tag2)\n",
    "                    pass\n",
    "                # Check similar verbs\n",
    "                elif tag1.startswith('V') and tag2.startswith('V'):\n",
    "                    synset1 = wn.synsets(token1, penn_to_wn(tag1))\n",
    "                    synset2 = wn.synsets(token2, penn_to_wn(tag2))\n",
    "                    if len(synset1) > 0 and len(synset2) > 0:\n",
    "                        full_path, min_common, min_dist = lex_compare(\n",
    "                            str(synset1[0]).replace('Synset(\\'', '').replace('\\')', ''),\n",
    "                            str(synset2[0]).replace('Synset(\\'', '').replace('\\')', ''))\n",
    "\n",
    "                        if  min_common is not None \\\n",
    "                            and min_dist < 4 \\\n",
    "                            and not str(min_common).startswith('Synset(\\'entity') \\\n",
    "                            and not str(min_common).startswith('Synset(\\'abstraction'):\n",
    "                                s1[i1] = (re.sub(r'Synset\\(\\'(.*)\\..*\\..*', r'\\1', str(min_common)), tag1)\n",
    "                                s2[i2] = (re.sub(r'Synset\\(\\'(.*)\\..*\\..*', r'\\1', str(min_common)), tag2)\n",
    "    return row\n",
    "\n",
    "def common_start(A, B):\n",
    "    count = 0\n",
    "    for a, b in zip(A, B):\n",
    "        if a != b:\n",
    "            return count\n",
    "        count += 1\n",
    "    return count\n",
    "\n",
    "def common_end(A, B):\n",
    "    count = 0\n",
    "    for a, b in zip(reversed(A), reversed(B)):\n",
    "        if a != b:\n",
    "            return count\n",
    "        count += 1\n",
    "    return count\n",
    "\n",
    "def preprocessor_get_synsets(word, tag):\n",
    "    synsets = wn.synsets(word, penn_to_wn(tag))\n",
    "    return [str(synset).replace('Synset(\\'', '').replace('\\')', '') for synset in synsets]\n",
    "\n",
    "def is_number(s):\n",
    "    try:\n",
    "        float(s)\n",
    "    except ValueError:\n",
    "        return False\n",
    "    else:\n",
    "        return True"
   ]
  },
  {
   "cell_type": "markdown",
   "metadata": {},
   "source": [
    "## The preprocessing can take place now"
   ]
  },
  {
   "cell_type": "code",
   "execution_count": 7,
   "metadata": {},
   "outputs": [
    {
     "name": "stdout",
     "output_type": "stream",
     "text": [
      "Preprocessing... Wait\n",
      "\n",
      "\n",
      "                                           sentence0  \\\n",
      "0  [but, source, close, sale, say, vivendi, keep,...   \n",
      "1  [micron, declare, first, quarterly, profit, th...   \n",
      "2  [the, fine, part, fail, republican, effort, fo...   \n",
      "3  [the, american, anglican, council, represent, ...   \n",
      "4  [the, techloaded, nasdaq, composite, rise, 20,...   \n",
      "\n",
      "                                           sentence1  \n",
      "0  [but, source, close, sale, say, vivendi, keep,...  \n",
      "1  [micron, number, also, mark, first, quarterly,...  \n",
      "2  [perry, say, back, senate, effort, include, fi...  \n",
      "3  [the, anglican, anglican, council, represent, ...  \n",
      "4  [the, techloaded, nasdaq, composite, index, ix...  \n"
     ]
    }
   ],
   "source": [
    "print('Preprocessing... Wait')\n",
    "tok_trn = preprocessor_run(trn)\n",
    "tok_tst = preprocessor_run(tst)\n",
    "print(tok_trn.head())"
   ]
  },
  {
   "cell_type": "markdown",
   "metadata": {},
   "source": [
    "## Before the training, we extract some features \n"
   ]
  },
  {
   "cell_type": "markdown",
   "metadata": {},
   "source": [
    "### Feature extraction"
   ]
  },
  {
   "cell_type": "code",
   "execution_count": 8,
   "metadata": {},
   "outputs": [],
   "source": [
    "def extract(dataset):\n",
    "    features = pd.DataFrame(columns=['sentence_lenght_diff',\n",
    "                                     'number_nouns_diff',\n",
    "                                     'number_of_verbs_s0', 'number_of_verbs_s1',\n",
    "                                     'number_of_symbols_s0', 'number_of_symbols_s1',\n",
    "                                     'number_of_digits_s0', 'number_of_digits_1',\n",
    "                                     'synonim_proportion', 'quantity_of_shared_words',\n",
    "                                     'proper_nouns_shared', 'jaccard_distance', 'path_similarity',\n",
    "                                     'wup_similarity', 'resnik_similarity', 'common_description',\n",
    "                                     'jcn_similarity', 'lin_similarity'])\n",
    "\n",
    "    mx = len(dataset.index)\n",
    "    for index, row in dataset.iterrows():\n",
    "        print('\\rExtracting features...', index, 'of', mx, end='   ', flush=True)\n",
    "        s0 = row['sentence0']\n",
    "        s1 = row['sentence1']\n",
    "        features.loc[index,'jaccard_distance'] = calculate_jaccard(s0,s1)\n",
    "        features.loc[index,'resnik_similarity'] = sentence_similarity_information_content(s0,s1,wn.res_similarity)\n",
    "        features.loc[index,'jcn_similarity'] = sentence_similarity_information_content(s0,s1,wn.jcn_similarity)\n",
    "        features.loc[index,'lin_similarity'] = sentence_similarity_information_content(s0,s1,wn.lin_similarity)\n",
    "        features.loc[index,'path_similarity'] = sentence_similarity(s0,s1,wn.path_similarity)\n",
    "        features.loc[index,'wup_similarity'] = sentence_similarity(s0,s1,wn.wup_similarity)\n",
    "        features.loc[index,'proper_nouns_shared'] = count_common_propper_nouns(s0,s1)\n",
    "        features.loc[index,'quantity_of_shared_words'] = count_shared_words(s0,s1)\n",
    "        features.loc[index,'synonim_proportion'] = synonim_proportion(s0,s1)\n",
    "        features.loc[index,'sentence_lenght_diff'] = abs(sentence_lenght(s0) - sentence_lenght(s1))\n",
    "        features.loc[index,'number_nouns_diff'] = abs(count_nouns(s0) - count_nouns(s1))\n",
    "        features.loc[index,'number_of_verbs_s0'] = count_verbs(s0)\n",
    "        features.loc[index,'number_of_verbs_s1'] = count_verbs(s1)\n",
    "        features.loc[index,'number_of_symbols_s0'] = count_symbols(s0)\n",
    "        features.loc[index,'number_of_symbols_s1'] = count_symbols(s1)\n",
    "        features.loc[index,'number_of_digits_s0'] = count_digits(s0)\n",
    "        features.loc[index,'number_of_digits_1'] = count_digits(s1)\n",
    "        features.loc[index,'common_description'] = common_description(s0, s1)\n",
    "\n",
    "    print()\n",
    "    features['resnik_similarity'] = scaler.fit_transform(features[['resnik_similarity']].values)\n",
    "    features['jcn_similarity'] = scaler.fit_transform(features[['jcn_similarity']].values)\n",
    "\n",
    "    return features\n",
    "\n",
    "def synonim_proportion(s0, s1):\n",
    "    syn_count = 0\n",
    "    for a in s0:\n",
    "        a = a.lower()\n",
    "        synonims_a = _get_word_synonyms(a)\n",
    "        for b in s1:\n",
    "            b = b.lower()\n",
    "            synonims_b = _get_word_synonyms(b)\n",
    "            if a == b:\n",
    "                are_syns = 1\n",
    "            else:\n",
    "                are_syns = len(set(synonims_a) & set(synonims_b)) > 0\n",
    "            syn_count += are_syns\n",
    "    max_len = min([len(s0), len(s1)])\n",
    "    return syn_count / max_len\n",
    "\n",
    "def tagged_to_synset( word, tag):\n",
    "    wn_tag = penn_to_wn(tag)\n",
    "    if wn_tag is None:\n",
    "        return None\n",
    "    try:\n",
    "        return wn.synsets(word, wn_tag)[0]\n",
    "    except:\n",
    "        return None\n",
    "\n",
    "def sentence_similarity_information_content(sentence1, sentence2, similarity):\n",
    "    ''' compute the sentence similairty using information content from wordnet '''\n",
    "    # Tokenize and tag\n",
    "    sentence1 = pos_tag(sentence1)\n",
    "    sentence2 = pos_tag(sentence2)\n",
    "    # Get the synsets for the tagged words\n",
    "    synsets1 = [tagged_to_synset(*tagged_word) for tagged_word in sentence1]\n",
    "    synsets2 = [tagged_to_synset(*tagged_word) for tagged_word in sentence2]\n",
    "    # Filter out the Nones\n",
    "    synsets1 = [ss for ss in synsets1 if ss]\n",
    "    synsets2 = [ss for ss in synsets2 if ss]\n",
    "    score, count = 0.0, 0\n",
    "    ppdb_score, align_cnt = 0, 0\n",
    "    # For each word in the first sentence\n",
    "    for synset in synsets1:\n",
    "        L = []\n",
    "        for ss in synsets2:\n",
    "            try:\n",
    "                L.append(wn.similarity(synset, ss, brown_ic))\n",
    "            except:\n",
    "                continue\n",
    "        if L:\n",
    "            best_score = max(L)\n",
    "            score += best_score\n",
    "            count += 1\n",
    "    # Average the values\n",
    "    if count > 0: score /= count\n",
    "    return score\n",
    "\n",
    "def common_description(s0, s1):\n",
    "    s0_tags = tagger.tag(s0)\n",
    "    s1_tags = tagger.tag(s1)\n",
    "\n",
    "    total_dist = 0\n",
    "    for word, tag in s0_tags:\n",
    "        if tag.startswith('N') or tag.startswith('V') or tag.startswith('J') or tag.startswith('R'):\n",
    "            max_dist = 0\n",
    "            for synset in wn.synsets(word, penn_to_wn(tag)):\n",
    "                desc = word_tokenize(synset.definition())\n",
    "                dist = len(list(set(s1) & set(desc)))\n",
    "                if dist > max_dist:\n",
    "                    max_dist = dist\n",
    "            total_dist += max_dist\n",
    "\n",
    "    for word, tag in s1_tags:\n",
    "        if tag.startswith('N') or tag.startswith('V') or tag.startswith('J') or tag.startswith('R'):\n",
    "            max_dist = 0\n",
    "            for synset in wn.synsets(word, penn_to_wn(tag)):\n",
    "                desc = word_tokenize(synset.definition())\n",
    "                dist = len(list(set(s0) & set(desc)))\n",
    "                if dist > max_dist:\n",
    "                    max_dist = dist\n",
    "            total_dist += max_dist\n",
    "\n",
    "    return total_dist\n",
    "\n",
    "\n",
    "def sentence_lenght(s):\n",
    "    return len(s)\n",
    "\n",
    "def count_symbols(s):\n",
    "    count = lambda l1, l2: sum([1 for x in l1 if x in l2])\n",
    "    return count(s, set(string.punctuation))\n",
    "\n",
    "def count_shared_words(s0, s1):\n",
    "    s0 = [w.lower() for w in s0]\n",
    "    s1 = [w.lower() for w in s1]\n",
    "    return len(list(set(s0) & set(s1)))\n",
    "\n",
    "def count_digits(s):\n",
    "    numbers = sum(c.isdigit() for c in s)\n",
    "    return numbers\n",
    "\n",
    "def _get_word_synonyms(word):\n",
    "    word_synonyms = []\n",
    "    for synset in wn.synsets(word):\n",
    "        for lemma in synset.lemma_names():\n",
    "            word_synonyms.append(lemma)\n",
    "    return word_synonyms\n",
    "\n",
    "def synonim_words(a, b):\n",
    "    return len(set(_get_word_synonyms(a)) & set(_get_word_synonyms(b))) > 0\n",
    "\n",
    "def count_synonims(s0, s1):\n",
    "    sinonim = 0\n",
    "    for a in s0:\n",
    "        for b in s1:\n",
    "            sinonim += synonim_words(a.lower(), b.lower())\n",
    "    return sinonim\n",
    "\n",
    "def count_common_propper_nouns(s0, s1):\n",
    "    s0_tags = tagger.tag(s0)\n",
    "    s1_tags = tagger.tag(s1)\n",
    "    NNP_s0 = [values[0] for values in s0_tags if values[1] == 'NNP']\n",
    "    NNP_s1 = [values[0] for values in s1_tags if values[1] == 'NNP']\n",
    "    return len(set(NNP_s0) & set(NNP_s1))\n",
    "\n",
    "def count_nouns(s0):\n",
    "    tagger = PerceptronTagger()\n",
    "    s0_tags = tagger.tag(s0)\n",
    "    NN_s0 = [values[0] for values in s0_tags if values[1] == 'NN']\n",
    "    return len(NN_s0)\n",
    "\n",
    "def count_verbs(s0):\n",
    "    tagger = PerceptronTagger()\n",
    "    s0_tags = tagger.tag(s0)\n",
    "    V_s0 = [values[0] for values in s0_tags if values[1] == 'VBP']\n",
    "    return len(V_s0)\n",
    "\n",
    "def calculate_jaccard(s0, s1):\n",
    "    lemms_0 = set([a.lower() for a in s0 if a])\n",
    "    lemms_1 = set([a.lower() for a in s1 if a])\n",
    "\n",
    "    jaccard_simmilarity = (1 - jaccard_distance(lemms_0, lemms_1))\n",
    "    return jaccard_simmilarity\n",
    "\n",
    "def sentence_similarity(sentence1, sentence2, similarity=wn.path_similarity):\n",
    "    \"\"\" compute the sentence similarity using Wordnet \"\"\"\n",
    "    # Tokenize and tag\n",
    "    sentence1 = pos_tag(sentence1)\n",
    "    sentence2 = pos_tag(sentence2)\n",
    "\n",
    "    # Get the synsets for the tagged words\n",
    "    synsets1 = [tagged_to_synset(*tagged_word) for tagged_word in sentence1]\n",
    "    synsets2 = [tagged_to_synset(*tagged_word) for tagged_word in sentence2]\n",
    "\n",
    "    # Filter out the Nones\n",
    "    synsets1 = [ss for ss in synsets1 if ss]\n",
    "    synsets2 = [ss for ss in synsets2 if ss]\n",
    "\n",
    "    score, count = 0.0, 0\n",
    "\n",
    "    # For each word in the first sentence\n",
    "    for synset in synsets1:\n",
    "        # Get the similarity value of the most similar word in the other sentence\n",
    "        similarities = [similarity(synset, ss) for ss in synsets2 if similarity(synset, ss)]\n",
    "        try:\n",
    "            best_score = max(similarities)\n",
    "        except:\n",
    "            best_score = 0\n",
    "        # Check that the similarity could have been computed\n",
    "        if best_score is not None:\n",
    "            score += best_score\n",
    "            count += 1\n",
    "\n",
    "    # Average the values\n",
    "    try:\n",
    "        score /= count\n",
    "    except:\n",
    "        score = 0\n",
    "    return score"
   ]
  },
  {
   "cell_type": "markdown",
   "metadata": {},
   "source": [
    "Extract the actual features"
   ]
  },
  {
   "cell_type": "code",
   "execution_count": 9,
   "metadata": {},
   "outputs": [
    {
     "name": "stdout",
     "output_type": "stream",
     "text": [
      "Extracting features... 2233 of 2234    3 of 2234    63 of 2234       82 of 2234    102 of 2234    128 of 2234    172 of 2234    175 of 2234    184 of 2234          334 of 2234   364 of 2234    389 of 2234    404 of 2234    427 of 2234    492 of 2234   of 2234    515 of 2234   517 of 2234   2234    532 of 2234       of 2234    640 of 2234    778 of 2234    795 of 2234    809 of 2234    846 of 2234    865 of 2234    875 of 2234    877 of 2234   886 of 2234    912 of 2234   961 of 2234   2234    977 of 2234       1008 of 2234    1021 of 2234   of 2234    1065 of 2234   2234    2234    1096 of 2234    1116 of 2234   1166 of 2234    1172 of 2234    2234    2234    1222 of 2234    1232 of 2234    1294 of 2234    1348 of 2234   of 2234    1371 of 2234    1399 of 2234    1455 of 2234   of 2234    2234    1484 of 2234    1485 of 2234   of 2234    1556 of 2234    1590 of 2234    of 2234    1679 of 2234    1734 of 2234    1877 of 2234    2234      of 2234    1994 of 2234    2035 of 2234    2057 of 2234    2234    2077 of 2234   2234   \n",
      "Extracting features... 3107 of 3108   f 3108    58 of 3108    72 of 3108   of 3108    3108    204 of 3108   3108    of 3108    285 of 3108    301 of 3108    3108    430 of 3108    463 of 3108    473 of 3108    534 of 3108    570 of 3108    585 of 3108   of 3108    617 of 3108    621 of 3108   of 3108    737 of 3108   of 3108    834 of 3108    848 of 3108    3108    868 of 3108    of 3108    893 of 3108   917 of 3108       965 of 3108   990 of 3108   3108       of 3108    of 3108    of 3108   of 3108    1130 of 3108    1134 of 3108       1191 of 3108    1212 of 3108       1216 of 3108    1240 of 3108      of 3108   of 3108    1283 of 3108    1292 of 3108    of 3108   3108    of 3108    of 3108   1350 of 3108    1353 of 3108       1367 of 3108    3108    of 3108   1436 of 3108    1485 of 3108    of 3108    of 3108   3108    1545 of 3108   3108    1664 of 3108      of 3108   3108    1847 of 3108   of 3108    1862 of 3108       3108    1902 of 3108   3108   of 3108    1956 of 3108    1985 of 3108    of 3108    1998 of 3108    2029 of 3108    2052 of 3108    2053 of 3108   2094 of 3108    2097 of 3108       2161 of 3108   of 3108    2183 of 3108       2258 of 3108   3108    of 3108    3108   2297 of 3108    2299 of 3108    2319 of 3108    2327 of 3108   3108   of 3108    3108   of 3108    2449 of 3108    of 3108    2512 of 3108   3108    2544 of 3108   2559 of 3108    3108    of 3108    2624 of 3108   of 3108   3108   2674 of 3108    2675 of 3108    2676 of 3108    2679 of 3108   2724 of 3108    2764 of 3108    2767 of 3108   3108    2906 of 3108    2908 of 3108         of 3108   3108    of 3108   of 3108   3108    3089 of 3108   \n"
     ]
    }
   ],
   "source": [
    "fea_trn = extract(tok_trn)\n",
    "fea_tst = extract(tok_tst)"
   ]
  },
  {
   "cell_type": "markdown",
   "metadata": {},
   "source": [
    "## Explore some lexical dimensions."
   ]
  },
  {
   "cell_type": "markdown",
   "metadata": {},
   "source": [
    "### Jaccard Distance"
   ]
  },
  {
   "cell_type": "code",
   "execution_count": 15,
   "metadata": {},
   "outputs": [
    {
     "name": "stdout",
     "output_type": "stream",
     "text": [
      "train pearson:  0.6486001574705514\n",
      "test pearson:  0.47375709584774206\n"
     ]
    }
   ],
   "source": [
    "def lexical_simmilarity(df):\n",
    "    guess = pd.DataFrame()\n",
    "    for i in df.index:\n",
    "        guess.loc[i, 'labels'] = 1 - jaccard_distance(set(df.loc[i, 'sentence0']), set(df.loc[i, 'sentence1']))\n",
    "    return guess\n",
    "\n",
    "\n",
    "guess_lex_train = lexical_simmilarity(trn)\n",
    "guess_lex_test = lexical_simmilarity(tst)\n",
    "\n",
    "print('train pearson: ', pearsonr(guess_lex_train['labels'], trn_gs['labels'])[0])\n",
    "print('test pearson: ', pearsonr(guess_lex_test['labels'], tst_gs['labels'])[0])"
   ]
  },
  {
   "cell_type": "code",
   "execution_count": 16,
   "metadata": {},
   "outputs": [],
   "source": [
    "def calculate_all_sims(dataset,symilarity_measure):\n",
    "    results = []\n",
    "    for index, row in dataset.iterrows():\n",
    "        s0 = row['sentence0']\n",
    "        s1 = row['sentence1']\n",
    "        results.append(sentence_similarity(s0,s1, symilarity_measure))\n",
    "    return results\n",
    "\n",
    "def calculate_all_sims_ic(dataset,symilarity_measure):\n",
    "    results = []\n",
    "    for index, row in dataset.iterrows():\n",
    "        s0 = row['sentence0']\n",
    "        s1 = row['sentence1']\n",
    "        results.append(sentence_similarity_information_content(s0,s1, symilarity_measure))\n",
    "    return results\n"
   ]
  },
  {
   "cell_type": "markdown",
   "metadata": {},
   "source": [
    "### Path"
   ]
  },
  {
   "cell_type": "code",
   "execution_count": null,
   "metadata": {},
   "outputs": [],
   "source": [
    "guess_lex_train = calculate_all_sims(trn,wn.path_similarity)\n",
    "guess_lex_test = calculate_all_sims(tst,wn.path_similarity)\n",
    "\n",
    "print('train pearson: ', pearsonr(guess_lex_train, trn_gs['labels'])[0])\n",
    "print('test pearson: ', pearsonr(guess_lex_test, tst_gs['labels'])[0])"
   ]
  },
  {
   "cell_type": "markdown",
   "metadata": {},
   "source": [
    "### Wu Palmer"
   ]
  },
  {
   "cell_type": "code",
   "execution_count": null,
   "metadata": {},
   "outputs": [],
   "source": [
    "guess_lex_train = calculate_all_sims(trn,wn.wup_similarity)\n",
    "guess_lex_test = calculate_all_sims(tst,wn.wup_similarity)\n",
    "\n",
    "print('train pearson: ', pearsonr(guess_lex_train, trn_gs['labels'])[0])\n",
    "print('test pearson: ', pearsonr(guess_lex_test, tst_gs['labels'])[0])"
   ]
  },
  {
   "cell_type": "markdown",
   "metadata": {},
   "source": [
    "### Lin"
   ]
  },
  {
   "cell_type": "code",
   "execution_count": null,
   "metadata": {},
   "outputs": [],
   "source": [
    "guess_lex_train = calculate_all_sims_ic(trn,wn.lin_similarity)\n",
    "guess_lex_test = calculate_all_sims_ic(tst,wn.lin_similarity)\n",
    "\n",
    "print('train pearson: ', pearsonr(guess_lex_train, trn_gs['labels'])[0])\n",
    "print('test pearson: ', pearsonr(guess_lex_test, tst_gs['labels'])[0])"
   ]
  },
  {
   "cell_type": "markdown",
   "metadata": {},
   "source": [
    "### Resnik Similarity"
   ]
  },
  {
   "cell_type": "code",
   "execution_count": null,
   "metadata": {},
   "outputs": [],
   "source": [
    "guess_lex_train = calculate_all_sims_ic(trn,wn.res_similarity)\n",
    "guess_lex_test = calculate_all_sims_ic(tst,wn.res_similarity)\n",
    "\n",
    "print('train pearson: ', pearsonr(guess_lex_train, trn_gs['labels'])[0])\n",
    "print('test pearson: ', pearsonr(guess_lex_test, tst_gs['labels'])[0])"
   ]
  },
  {
   "cell_type": "markdown",
   "metadata": {},
   "source": [
    "##  Explore the syntactic dimension alone."
   ]
  },
  {
   "cell_type": "markdown",
   "metadata": {},
   "source": [
    "In the preprocessing"
   ]
  },
  {
   "cell_type": "markdown",
   "metadata": {},
   "source": [
    "## Explore the combination of both previous."
   ]
  },
  {
   "cell_type": "markdown",
   "metadata": {},
   "source": [
    "In the preprocessing and in the feature extractor"
   ]
  },
  {
   "cell_type": "markdown",
   "metadata": {},
   "source": [
    "## Bag of Words \n",
    "Used to expand on the features"
   ]
  },
  {
   "cell_type": "code",
   "execution_count": 19,
   "metadata": {
    "scrolled": true
   },
   "outputs": [
    {
     "name": "stdout",
     "output_type": "stream",
     "text": [
      "Creating BOG...\n",
      "BOG dictionary size: 1745\n",
      "Done !\n"
     ]
    }
   ],
   "source": [
    "__dictionary = None\n",
    "\n",
    "def train_dictionary(tokenized_trn):\n",
    "    __dictionary = gensim.corpora.Dictionary(tokenized_trn.sentence0.tolist() + tokenized_trn.sentence1.tolist())\n",
    "    __dictionary.filter_extremes(no_below=5, no_above=0.8)\n",
    "    __dictionary.compactify()\n",
    "    print(\"BOG dictionary size: %s\" % len(__dictionary))\n",
    "    return __dictionary\n",
    "\n",
    "def get_vectors(df):\n",
    "    sentence0_vec = [__dictionary.doc2bow(text) for text in df.sentence0.tolist()]\n",
    "    sentence1_vec = [__dictionary.doc2bow(text) for text in df.sentence1.tolist()]\n",
    "    sentence0_csc = gensim.matutils.corpus2csc(sentence0_vec, num_terms=len(__dictionary.token2id))\n",
    "    sentence1_csc = gensim.matutils.corpus2csc(sentence1_vec, num_terms=len(__dictionary.token2id))\n",
    "    return sentence0_csc.transpose(), sentence1_csc.transpose()\n",
    "\n",
    "def get_bog_extended(tokenized, features, scale=False):\n",
    "    q1_csc, q2_csc = get_vectors(tokenized)\n",
    "    trn_bog = np.concatenate((q1_csc.todense(), q2_csc.todense()), axis=1)\n",
    "    if scale:\n",
    "        features = pd.DataFrame(scaler.fit_transform(features))\n",
    "    trn_bog_extended = pd.concat([pd.DataFrame(trn_bog), features], axis=1)\n",
    "    return trn_bog_extended\n",
    "\n",
    "print('Creating BOG...')\n",
    "__dictionary = train_dictionary(tok_trn)\n",
    "bog_extended_trn = get_bog_extended(tok_trn, fea_trn)\n",
    "bog_extended_tst = get_bog_extended(tok_tst, fea_tst)\n",
    "bog_extended_trn_scaled = get_bog_extended(tok_trn, fea_trn, scale=True)\n",
    "bog_extended_tst_scaled = get_bog_extended(tok_tst, fea_tst, scale=True)\n",
    "print('Done !')"
   ]
  },
  {
   "cell_type": "markdown",
   "metadata": {},
   "source": [
    "# Similarities\n",
    "Now, different tools, have been used to be trained and predict the output of the test set"
   ]
  },
  {
   "cell_type": "markdown",
   "metadata": {},
   "source": [
    "## Random Forest Regressor"
   ]
  },
  {
   "cell_type": "code",
   "execution_count": 20,
   "metadata": {},
   "outputs": [
    {
     "name": "stdout",
     "output_type": "stream",
     "text": [
      " 1) quantity_of_shared_words       0.458370\n",
      " 2) synonim_proportion             0.084027\n",
      " 3) path_similarity                0.043505\n",
      " 4) 230                            0.041151\n",
      " 5) jaccard_distance               0.037607\n",
      " 6) wup_similarity                 0.026640\n",
      " 7) 1975                           0.019904\n",
      " 8) common_description             0.017353\n",
      " 9) 46                             0.014017\n",
      "10) sentence_lenght_diff           0.011251\n"
     ]
    }
   ],
   "source": [
    "rfr = RandomForestRegressor(n_jobs=-1, n_estimators=100)\n",
    "\n",
    "def print_feature_importance(rfr, trn):\n",
    "    importance = rfr.feature_importances_\n",
    "    indices = np.argsort(importance)[::-1]\n",
    "    try:\n",
    "        feat_labels = trn.columns\n",
    "        for f in range(10):\n",
    "            print(\"%2d) %-*s %f\" % (f + 1, 30, feat_labels[indices[f]], importance[indices[f]]))\n",
    "    except:\n",
    "        pass\n",
    "\n",
    "rfr.fit(bog_extended_trn, trn_gs['labels'].values)\n",
    "print_feature_importance(rfr, bog_extended_trn)\n",
    "\n",
    "predict_rfr_trn = rfr.predict(bog_extended_trn)\n",
    "predict_rfr_tst = rfr.predict(bog_extended_tst)"
   ]
  },
  {
   "cell_type": "markdown",
   "metadata": {},
   "source": [
    "## NN"
   ]
  },
  {
   "cell_type": "code",
   "execution_count": 21,
   "metadata": {},
   "outputs": [],
   "source": [
    "nn = MLPRegressor(hidden_layer_sizes=(100, 30, 30), validation_fraction=0.3, alpha=0.3, warm_start=False,\n",
    "                                max_iter=1000, activation='logistic')\n",
    "nn.fit(bog_extended_trn_scaled, trn_gs['labels'].values)\n",
    "\n",
    "predict_nn_trn  = nn.predict(bog_extended_trn_scaled)\n",
    "predict_nn_tst  = nn.predict(bog_extended_tst_scaled)"
   ]
  },
  {
   "cell_type": "markdown",
   "metadata": {},
   "source": [
    "## JACARD"
   ]
  },
  {
   "cell_type": "code",
   "execution_count": 22,
   "metadata": {},
   "outputs": [],
   "source": [
    "def jaccard_predict(data_frame, maximum=5):\n",
    "    predicted = []\n",
    "    for index, row in data_frame.iterrows():\n",
    "        s1 = row['sentence0']\n",
    "        s2 = row['sentence1']\n",
    "        jaccard_similarity = (1 - jaccard_distance(set(s1), set(s2))) * maximum\n",
    "        predicted.append(jaccard_similarity)\n",
    "\n",
    "    return predicted\n",
    "\n",
    "predict_jac_trn = jaccard_predict(tok_trn)\n",
    "predict_jac_tst = jaccard_predict(tok_tst)"
   ]
  },
  {
   "cell_type": "markdown",
   "metadata": {},
   "source": [
    "## Average\n",
    "The Random Forest Regression and the NN perform really good, but averaging them is even better"
   ]
  },
  {
   "cell_type": "code",
   "execution_count": 23,
   "metadata": {},
   "outputs": [],
   "source": [
    "def average(predict_rfr, predict_nn):\n",
    "    avg = []\n",
    "    for rfr, nn in zip(predict_rfr, predict_nn):\n",
    "        avg.append(0.5 * rfr + 0.5 * nn)\n",
    "    return avg\n",
    "\n",
    "predict_avg_trn = average(predict_rfr_trn, predict_nn_trn)\n",
    "predict_avg_tst = average(predict_rfr_tst, predict_nn_tst)"
   ]
  },
  {
   "cell_type": "markdown",
   "metadata": {},
   "source": [
    "# Results, Pearson for Averagin: 0.78~"
   ]
  },
  {
   "cell_type": "code",
   "execution_count": 24,
   "metadata": {},
   "outputs": [
    {
     "name": "stdout",
     "output_type": "stream",
     "text": [
      "+-----------+------------+------------+------------+------------+------------+\n",
      "|           |    Real    |    RFR     |  Jaccard   |     NN     |   Voting   |\n",
      "+-----------+------------+------------+------------+------------+------------+\n",
      "|    Trn    | 3.25 std:  | 3.26 std:  | 2.30 std:  | 3.29 std:  | 3.27 std:  |\n",
      "|           |    1.4     |    1.3     |    1.0     |    1.2     |    1.2     |\n",
      "+-----------+------------+------------+------------+------------+------------+\n",
      "|    Tst    | 3.51 std:  | 3.22 std:  | 2.41 std:  | 3.29 std:  | 3.26 std:  |\n",
      "|           |    1.4     |    1.2     |    1.2     |    1.0     |    1.1     |\n",
      "+-----------+------------+------------+------------+------------+------------+\n",
      "| Trn Pears |    1.0     |   0.982    |    0.55    |   0.901    |   0.958    |\n",
      "|    on     |            |            |            |            |            |\n",
      "+-----------+------------+------------+------------+------------+------------+\n",
      "| Tst Pears |    1.0     |   0.758    |   0.548    |   0.758    |   0.783    |\n",
      "|    on     |            |            |            |            |            |\n",
      "+-----------+------------+------------+------------+------------+------------+\n"
     ]
    },
    {
     "data": {
      "image/png": "[encoded data removed]",
      "text/plain": [
       "<Figure size 432x288 with 1 Axes>"
      ]
     },
     "metadata": {},
     "output_type": "display_data"
    },
    {
     "data": {
      "image/png": "[encoded data removed]",
      "text/plain": [
       "<Figure size 432x288 with 1 Axes>"
      ]
     },
     "metadata": {},
     "output_type": "display_data"
    },
    {
     "data": {
      "image/png": "[encoded data removed]",
      "text/plain": [
       "<Figure size 432x288 with 1 Axes>"
      ]
     },
     "metadata": {},
     "output_type": "display_data"
    },
    {
     "data": {
      "image/png": "[encoded data removed]",
      "text/plain": [
       "<Figure size 432x288 with 1 Axes>"
      ]
     },
     "metadata": {},
     "output_type": "display_data"
    },
    {
     "data": {
      "image/png": "[encoded data removed]",
      "text/plain": [
       "<Figure size 432x288 with 1 Axes>"
      ]
     },
     "metadata": {},
     "output_type": "display_data"
    },
    {
     "data": {
      "image/png": "[encoded data removed]",
      "text/plain": [
       "<Figure size 432x288 with 1 Axes>"
      ]
     },
     "metadata": {},
     "output_type": "display_data"
    },
    {
     "data": {
      "image/png": "[encoded data removed]",
      "text/plain": [
       "<Figure size 432x288 with 1 Axes>"
      ]
     },
     "metadata": {},
     "output_type": "display_data"
    },
    {
     "data": {
      "image/png": "[encoded data removed]",
      "text/plain": [
       "<Figure size 432x288 with 1 Axes>"
      ]
     },
     "metadata": {},
     "output_type": "display_data"
    }
   ],
   "source": [
    "def __add_table(table, name, trn, tst):\n",
    "    table.append_column(name, [\n",
    "        '{:.2f} std: {:.1f}'.format(np.mean(trn), np.std(trn)),\n",
    "        '{:.2f} std: {:.1f}'.format(np.mean(tst), np.std(tst)),\n",
    "        '{:.4f}'.format(pearsonr(trn, trn_gs['labels'])[0]),\n",
    "        '{:.4f}'.format(pearsonr(tst, tst_gs['labels'])[0])\n",
    "    ])\n",
    "\n",
    "table = BeautifulTable()\n",
    "table.append_column('', ['Trn', 'Tst', 'Trn Pearson', 'Tst Pearson'])\n",
    "\n",
    "__add_table(table, 'Real', trn_gs['labels'], tst_gs['labels'])\n",
    "__add_table(table, 'RFR', predict_rfr_trn, predict_rfr_tst)\n",
    "__add_table(table, 'Jaccard', predict_jac_trn, predict_jac_tst)\n",
    "__add_table(table, 'NN', predict_nn_trn, predict_nn_tst)\n",
    "__add_table(table, 'Voting', predict_avg_trn, predict_avg_tst)\n",
    "print(table)\n",
    "plt.scatter(predict_nn_trn, trn_gs['labels'], c='Cyan')\n",
    "plt.xlabel('NN label (Train)')\n",
    "plt.ylabel('Real label (Train)')\n",
    "plt.show()\n",
    "plt.scatter(predict_avg_trn, trn_gs['labels'], c='Blue')\n",
    "plt.xlabel('Voting label (Train)')\n",
    "plt.ylabel('Real label (Train)')\n",
    "plt.show()\n",
    "plt.scatter(predict_jac_trn, trn_gs['labels'], c='Green')\n",
    "plt.xlabel('Jaccard label (Train)')\n",
    "plt.ylabel('Real label (Train)')\n",
    "plt.show()\n",
    "plt.scatter(predict_rfr_trn, trn_gs['labels'], c='Red')\n",
    "plt.xlabel('RFR label (Train)')\n",
    "plt.ylabel('Real label (Train)')\n",
    "plt.show()\n",
    "plt.scatter(predict_nn_tst, tst_gs['labels'], c='Cyan')\n",
    "plt.xlabel('NN label (Test)')\n",
    "plt.ylabel('Real label (Test)')\n",
    "plt.show()\n",
    "plt.scatter(predict_avg_tst, tst_gs['labels'], c='Blue')\n",
    "plt.xlabel('Voting label (Test)')\n",
    "plt.ylabel('Real label (Test)')\n",
    "plt.show()\n",
    "plt.scatter(predict_jac_tst, tst_gs['labels'], c='Green')\n",
    "plt.xlabel('Jaccard label (Test)')\n",
    "plt.ylabel('Real label (Test)')\n",
    "plt.show()\n",
    "plt.scatter(predict_rfr_tst, tst_gs['labels'], c='Red')\n",
    "plt.xlabel('RFR label (Test)')\n",
    "plt.ylabel('Real label (Test)')\n",
    "plt.show()"
   ]
  },
  {
   "cell_type": "code",
   "execution_count": 25,
   "metadata": {},
   "outputs": [
    {
     "name": "stdout",
     "output_type": "stream",
     "text": [
      "10 Worst results in voting:\n",
      "\u001b[34mPredicted with avg: 0.79 (RFR: 0.06 NN: 1.51 Jaccard: 0.00) Target: 4.50 Err: 3.71\u001b[0m\n",
      "[a concern or affair]\n",
      "[some situation or event that is thought about.]\n",
      "\u001b[34mPredicted with avg: 0.99 (RFR: 0.49 NN: 1.50 Jaccard: 0.00) Target: 4.50 Err: 3.51\u001b[0m\n",
      "[be against, resist]\n",
      "[act against or in opposition to.]\n",
      "\u001b[34mPredicted with avg: 0.89 (RFR: 0.31 NN: 1.47 Jaccard: 0.00) Target: 4.25 Err: 3.36\u001b[0m\n",
      "[The act of having and controlling property.]\n",
      "[the state or fact of being an owner.]\n",
      "\u001b[34mPredicted with avg: 1.39 (RFR: 1.12 NN: 1.66 Jaccard: 0.00) Target: 4.50 Err: 3.11\u001b[0m\n",
      "[Other ways are needed.]\n",
      "[It is necessary to find other means.  ]\n",
      "\u001b[34mPredicted with avg: 1.67 (RFR: 1.39 NN: 1.94 Jaccard: 0.00) Target: 4.75 Err: 3.08\u001b[0m\n",
      "[Bring back to life, return from the dead]\n",
      "[cause to become alive again.]\n",
      "\u001b[34mPredicted with avg: 1.18 (RFR: 0.60 NN: 1.76 Jaccard: 0.00) Target: 4.25 Err: 3.07\u001b[0m\n",
      "[Then perhaps we could have avoided a catastrophe.]\n",
      "[We might have been able to prevent a disaster.]\n",
      "\u001b[34mPredicted with avg: 0.97 (RFR: 0.69 NN: 1.24 Jaccard: 1.25) Target: 3.80 Err: 2.83\u001b[0m\n",
      "[A woman is resting in a floating raft.]\n",
      "[A woman relaxes in an inner tube.]\n",
      "\u001b[34mPredicted with avg: 1.68 (RFR: 1.43 NN: 1.92 Jaccard: 0.56) Target: 4.50 Err: 2.82\u001b[0m\n",
      "[The lady cut the tail and body of a shrimp.]\n",
      "[A woman is cleaning a shrimp.]\n",
      "\u001b[34mPredicted with avg: 1.78 (RFR: 1.22 NN: 2.34 Jaccard: 1.00) Target: 4.60 Err: 2.82\u001b[0m\n",
      "[Other ways are needed.]\n",
      "[Other means should be found.]\n"
     ]
    }
   ],
   "source": [
    "k = 10\n",
    "print(k, 'Worst results in voting:')\n",
    "err = np.abs(predict_avg_tst - tst_gs['labels'].values)\n",
    "idx = np.argpartition(err, -k)[-k:]\n",
    "dic = {err[i]: i for i in idx}  # Create a dictionary with the errors as the key for sorting output\n",
    "for err in sorted(dic, reverse=True):\n",
    "    i = dic[err]\n",
    "    print(\n",
    "        '\\33[34mPredicted with avg: {:.2f} (RFR: {:.2f} NN: {:.2f} Jaccard: {:.2f}) Target: {:.2f} Err: {:.2f}\\033[0m\\n[{:s}]\\n[{:s}]'\n",
    "        .format(\n",
    "            predict_avg_tst[i], predict_rfr_tst[i], predict_nn_tst[i], predict_jac_tst[i], tst_gs['labels'].values[i], err,\n",
    "            str(tst['sentence0'].values[i]).replace('\\n', '').replace('\\r', ''),\n",
    "            str(tst['sentence1'].values[i]).replace('\\n', '').replace('\\r', '')\n",
    "        ))\n"
   ]
  }
 ],
 "metadata": {
  "kernelspec": {
   "display_name": "Python 3",
   "language": "python",
   "name": "python3"
  },
  "language_info": {
   "codemirror_mode": {
    "name": "ipython",
    "version": 3
   },
   "file_extension": ".py",
   "mimetype": "text/x-python",
   "name": "python",
   "nbconvert_exporter": "python",
   "pygments_lexer": "ipython3",
   "version": "3.6.5"
  }
 },
 "nbformat": 4,
 "nbformat_minor": 2
}
