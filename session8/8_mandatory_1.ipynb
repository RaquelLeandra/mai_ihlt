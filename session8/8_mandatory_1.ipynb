{
 "cells": [
  {
   "cell_type": "markdown",
   "metadata": {},
   "source": [
    "# Mandarory Exercise: Parsing\n",
    "Statement:\n",
    "* Consider the following sentence: Lazy cats play with mice.\n",
    "* Expand the grammar of the example related to non-probabilistic chart parsers in order to subsume this new sentence.\n",
    "* Perform the constituency parsing using a BottomUpChartParser, a BottomUpLeftCornerChartParser and a LeftCornerChartParser.\n",
    "* For each one of them, provide the resulting tree, the number of edges and the list of explored edges.\n",
    "* Which parser is the most efficient for parsing the sentence?\n",
    "* Which edges are filtered out by each parser and why?"
   ]
  },
  {
   "cell_type": "code",
   "execution_count": 2,
   "metadata": {},
   "outputs": [],
   "source": [
    "import nltk\n",
    "from nltk import CFG, ChartParser\n",
    "from nltk import TopDownChartParser, BottomUpChartParser, BottomUpLeftCornerChartParser, LeftCornerChartParser"
   ]
  },
  {
   "cell_type": "code",
   "execution_count": 26,
   "metadata": {},
   "outputs": [],
   "source": [
    "sentence = 'Lazy cats play with mice'\n",
    "sentence = sentence.lower().split()\n",
    "\n",
    "grammar = CFG.fromstring('''\n",
    " S -> NP VP | JJ NNS VP\n",
    " NP -> NNS | JJ NNS | NP CC NP\n",
    " VP -> V PP | V PREP NP \n",
    " PP -> PREP NP\n",
    " NNS -> \"cats\" | \"dogs\" |\"mice\" | NNS CC NNS\n",
    " JJ -> \"big\" | \"small\" | \"lazy\"\n",
    " CC -> \"and\" | \"or\" \n",
    " PREP -> \"with\"\n",
    " V -> \"play\"\n",
    "''')\n"
   ]
  },
  {
   "cell_type": "code",
   "execution_count": 44,
   "metadata": {},
   "outputs": [
    {
     "name": "stdout",
     "output_type": "stream",
     "text": [
      "Num edges 48\n"
     ]
    },
    {
     "data": {
      "image/png": "[encoded data removed]",
      "text/plain": [
       "Tree('S', [Tree('JJ', ['lazy']), Tree('NNS', ['cats']), Tree('VP', [Tree('V', ['play']), Tree('PREP', ['with']), Tree('NP', [Tree('NNS', ['mice'])])])])"
      ]
     },
     "execution_count": 44,
     "metadata": {},
     "output_type": "execute_result"
    }
   ],
   "source": [
    "parser = TopDownChartParser(grammar)\n",
    "parsed = parser.parse(sentence)\n",
    "print('Num edges', parser.chart_parse(sentence).num_edges())\n",
    "\n",
    "ts = []\n",
    "for t in parsed:\n",
    "    ts.append(t)\n",
    "ts[0]"
   ]
  },
  {
   "cell_type": "code",
   "execution_count": 47,
   "metadata": {},
   "outputs": [
    {
     "data": {
      "text/plain": [
       "[[Edge: [0:1] 'lazy'],\n",
       " [Edge: [1:2] 'cats'],\n",
       " [Edge: [2:3] 'play'],\n",
       " [Edge: [3:4] 'with'],\n",
       " [Edge: [4:5] 'mice'],\n",
       " [Edge: [0:0] S  -> * NP VP],\n",
       " [Edge: [0:0] S  -> * JJ NNS VP],\n",
       " [Edge: [0:0] NP -> * NNS],\n",
       " [Edge: [0:0] NP -> * JJ NNS],\n",
       " [Edge: [0:0] NP -> * NP CC NP],\n",
       " [Edge: [0:0] JJ -> * 'lazy'],\n",
       " [Edge: [0:1] JJ -> 'lazy' *],\n",
       " [Edge: [0:1] S  -> JJ * NNS VP],\n",
       " [Edge: [0:1] NP -> JJ * NNS],\n",
       " [Edge: [1:1] NNS -> * 'cats'],\n",
       " [Edge: [1:1] NNS -> * NNS CC NNS],\n",
       " [Edge: [1:2] NNS -> 'cats' *],\n",
       " [Edge: [0:2] S  -> JJ NNS * VP],\n",
       " [Edge: [0:2] NP -> JJ NNS *],\n",
       " [Edge: [1:2] NNS -> NNS * CC NNS],\n",
       " [Edge: [0:2] S  -> NP * VP],\n",
       " [Edge: [0:2] NP -> NP * CC NP],\n",
       " [Edge: [2:2] VP -> * V PP],\n",
       " [Edge: [2:2] VP -> * V PREP NP],\n",
       " [Edge: [2:2] V  -> * 'play'],\n",
       " [Edge: [2:3] V  -> 'play' *],\n",
       " [Edge: [2:3] VP -> V * PP],\n",
       " [Edge: [2:3] VP -> V * PREP NP],\n",
       " [Edge: [3:3] PREP -> * 'with'],\n",
       " [Edge: [3:4] PREP -> 'with' *],\n",
       " [Edge: [2:4] VP -> V PREP * NP],\n",
       " [Edge: [4:4] NP -> * NNS],\n",
       " [Edge: [4:4] NP -> * JJ NNS],\n",
       " [Edge: [4:4] NP -> * NP CC NP],\n",
       " [Edge: [4:4] NNS -> * 'mice'],\n",
       " [Edge: [4:4] NNS -> * NNS CC NNS],\n",
       " [Edge: [4:5] NNS -> 'mice' *],\n",
       " [Edge: [4:5] NP -> NNS *],\n",
       " [Edge: [4:5] NNS -> NNS * CC NNS],\n",
       " [Edge: [2:5] VP -> V PREP NP *],\n",
       " [Edge: [4:5] NP -> NP * CC NP],\n",
       " [Edge: [0:5] S  -> JJ NNS VP *],\n",
       " [Edge: [0:5] S  -> NP VP *],\n",
       " [Edge: [3:3] PP -> * PREP NP],\n",
       " [Edge: [3:4] PP -> PREP * NP],\n",
       " [Edge: [3:5] PP -> PREP NP *],\n",
       " [Edge: [2:5] VP -> V PP *],\n",
       " [Edge: [0:0] NNS -> * NNS CC NNS]]"
      ]
     },
     "execution_count": 47,
     "metadata": {},
     "output_type": "execute_result"
    }
   ],
   "source": [
    "parser.chart_parse(sentence).edges()"
   ]
  },
  {
   "cell_type": "code",
   "execution_count": 40,
   "metadata": {},
   "outputs": [
    {
     "name": "stdout",
     "output_type": "stream",
     "text": [
      "Num edges 54\n"
     ]
    },
    {
     "data": {
      "image/png": "[encoded data removed]",
      "text/plain": [
       "Tree('S', [Tree('JJ', ['lazy']), Tree('NNS', ['cats']), Tree('VP', [Tree('V', ['play']), Tree('PP', [Tree('PREP', ['with']), Tree('NP', [Tree('NNS', ['mice'])])])])])"
      ]
     },
     "execution_count": 40,
     "metadata": {},
     "output_type": "execute_result"
    }
   ],
   "source": [
    "parser_BottomUP = BottomUpChartParser(grammar)\n",
    "parsed_BottomUP = parser_BottomUP.parse(sentence)\n",
    "print('Num edges', parser_BottomUP.chart_parse(sentence).num_edges())\n",
    "ts_b = []\n",
    "for t in parsed_BottomUP:\n",
    "    ts_b.append(t)\n",
    "ts_b[0]"
   ]
  },
  {
   "cell_type": "code",
   "execution_count": 46,
   "metadata": {},
   "outputs": [
    {
     "data": {
      "text/plain": [
       "[[Edge: [0:1] 'lazy'],\n",
       " [Edge: [1:2] 'cats'],\n",
       " [Edge: [2:3] 'play'],\n",
       " [Edge: [3:4] 'with'],\n",
       " [Edge: [4:5] 'mice'],\n",
       " [Edge: [0:0] JJ -> * 'lazy'],\n",
       " [Edge: [0:1] JJ -> 'lazy' *],\n",
       " [Edge: [0:0] S  -> * JJ NNS VP],\n",
       " [Edge: [0:0] NP -> * JJ NNS],\n",
       " [Edge: [0:1] S  -> JJ * NNS VP],\n",
       " [Edge: [0:1] NP -> JJ * NNS],\n",
       " [Edge: [1:1] NNS -> * 'cats'],\n",
       " [Edge: [1:2] NNS -> 'cats' *],\n",
       " [Edge: [1:1] NP -> * NNS],\n",
       " [Edge: [1:1] NNS -> * NNS CC NNS],\n",
       " [Edge: [0:2] S  -> JJ NNS * VP],\n",
       " [Edge: [0:2] NP -> JJ NNS *],\n",
       " [Edge: [1:2] NP -> NNS *],\n",
       " [Edge: [1:2] NNS -> NNS * CC NNS],\n",
       " [Edge: [1:1] S  -> * NP VP],\n",
       " [Edge: [1:1] NP -> * NP CC NP],\n",
       " [Edge: [1:2] S  -> NP * VP],\n",
       " [Edge: [1:2] NP -> NP * CC NP],\n",
       " [Edge: [0:0] S  -> * NP VP],\n",
       " [Edge: [0:0] NP -> * NP CC NP],\n",
       " [Edge: [0:2] S  -> NP * VP],\n",
       " [Edge: [0:2] NP -> NP * CC NP],\n",
       " [Edge: [2:2] V  -> * 'play'],\n",
       " [Edge: [2:3] V  -> 'play' *],\n",
       " [Edge: [2:2] VP -> * V PP],\n",
       " [Edge: [2:2] VP -> * V PREP NP],\n",
       " [Edge: [2:3] VP -> V * PP],\n",
       " [Edge: [2:3] VP -> V * PREP NP],\n",
       " [Edge: [3:3] PREP -> * 'with'],\n",
       " [Edge: [3:4] PREP -> 'with' *],\n",
       " [Edge: [3:3] PP -> * PREP NP],\n",
       " [Edge: [2:4] VP -> V PREP * NP],\n",
       " [Edge: [3:4] PP -> PREP * NP],\n",
       " [Edge: [4:4] NNS -> * 'mice'],\n",
       " [Edge: [4:5] NNS -> 'mice' *],\n",
       " [Edge: [4:4] NP -> * NNS],\n",
       " [Edge: [4:4] NNS -> * NNS CC NNS],\n",
       " [Edge: [4:5] NP -> NNS *],\n",
       " [Edge: [4:5] NNS -> NNS * CC NNS],\n",
       " [Edge: [4:4] S  -> * NP VP],\n",
       " [Edge: [4:4] NP -> * NP CC NP],\n",
       " [Edge: [2:5] VP -> V PREP NP *],\n",
       " [Edge: [3:5] PP -> PREP NP *],\n",
       " [Edge: [4:5] S  -> NP * VP],\n",
       " [Edge: [4:5] NP -> NP * CC NP],\n",
       " [Edge: [2:5] VP -> V PP *],\n",
       " [Edge: [0:5] S  -> JJ NNS VP *],\n",
       " [Edge: [1:5] S  -> NP VP *],\n",
       " [Edge: [0:5] S  -> NP VP *]]"
      ]
     },
     "execution_count": 46,
     "metadata": {},
     "output_type": "execute_result"
    }
   ],
   "source": [
    "parser_BottomUP.chart_parse(sentence).edges()\n"
   ]
  },
  {
   "cell_type": "code",
   "execution_count": 41,
   "metadata": {},
   "outputs": [
    {
     "name": "stdout",
     "output_type": "stream",
     "text": [
      "Num edges 34\n"
     ]
    },
    {
     "data": {
      "image/png": "[encoded data removed]",
      "text/plain": [
       "Tree('S', [Tree('JJ', ['lazy']), Tree('NNS', ['cats']), Tree('VP', [Tree('V', ['play']), Tree('PREP', ['with']), Tree('NP', [Tree('NNS', ['mice'])])])])"
      ]
     },
     "execution_count": 41,
     "metadata": {},
     "output_type": "execute_result"
    }
   ],
   "source": [
    "parser_BottomUP_Left = BottomUpLeftCornerChartParser(grammar)\n",
    "parsed_BottomUP_Left = parser_BottomUP_Left.parse(sentence)\n",
    "print('Num edges', parser_BottomUP_Left.chart_parse(sentence).num_edges())\n",
    "ts_b_l = []\n",
    "for t in parsed_BottomUP_Left:\n",
    "    ts_b_l.append(t)\n",
    "ts_b_l[0]"
   ]
  },
  {
   "cell_type": "code",
   "execution_count": 48,
   "metadata": {},
   "outputs": [
    {
     "data": {
      "text/plain": [
       "[[Edge: [0:1] 'lazy'],\n",
       " [Edge: [1:2] 'cats'],\n",
       " [Edge: [2:3] 'play'],\n",
       " [Edge: [3:4] 'with'],\n",
       " [Edge: [4:5] 'mice'],\n",
       " [Edge: [0:1] JJ -> 'lazy' *],\n",
       " [Edge: [0:1] S  -> JJ * NNS VP],\n",
       " [Edge: [0:1] NP -> JJ * NNS],\n",
       " [Edge: [1:2] NNS -> 'cats' *],\n",
       " [Edge: [1:2] NP -> NNS *],\n",
       " [Edge: [1:2] NNS -> NNS * CC NNS],\n",
       " [Edge: [0:2] S  -> JJ NNS * VP],\n",
       " [Edge: [0:2] NP -> JJ NNS *],\n",
       " [Edge: [0:2] S  -> NP * VP],\n",
       " [Edge: [0:2] NP -> NP * CC NP],\n",
       " [Edge: [1:2] S  -> NP * VP],\n",
       " [Edge: [1:2] NP -> NP * CC NP],\n",
       " [Edge: [2:3] V  -> 'play' *],\n",
       " [Edge: [2:3] VP -> V * PP],\n",
       " [Edge: [2:3] VP -> V * PREP NP],\n",
       " [Edge: [3:4] PREP -> 'with' *],\n",
       " [Edge: [3:4] PP -> PREP * NP],\n",
       " [Edge: [2:4] VP -> V PREP * NP],\n",
       " [Edge: [4:5] NNS -> 'mice' *],\n",
       " [Edge: [4:5] NP -> NNS *],\n",
       " [Edge: [4:5] NNS -> NNS * CC NNS],\n",
       " [Edge: [4:5] S  -> NP * VP],\n",
       " [Edge: [4:5] NP -> NP * CC NP],\n",
       " [Edge: [3:5] PP -> PREP NP *],\n",
       " [Edge: [2:5] VP -> V PREP NP *],\n",
       " [Edge: [0:5] S  -> JJ NNS VP *],\n",
       " [Edge: [0:5] S  -> NP VP *],\n",
       " [Edge: [1:5] S  -> NP VP *],\n",
       " [Edge: [2:5] VP -> V PP *]]"
      ]
     },
     "execution_count": 48,
     "metadata": {},
     "output_type": "execute_result"
    }
   ],
   "source": [
    "parser_BottomUP_Left.chart_parse(sentence).edges()"
   ]
  },
  {
   "cell_type": "code",
   "execution_count": 42,
   "metadata": {},
   "outputs": [
    {
     "name": "stdout",
     "output_type": "stream",
     "text": [
      "Num edges 28\n"
     ]
    },
    {
     "data": {
      "image/png": "[encoded data removed]",
      "text/plain": [
       "Tree('S', [Tree('JJ', ['lazy']), Tree('NNS', ['cats']), Tree('VP', [Tree('V', ['play']), Tree('PREP', ['with']), Tree('NP', [Tree('NNS', ['mice'])])])])"
      ]
     },
     "execution_count": 42,
     "metadata": {},
     "output_type": "execute_result"
    }
   ],
   "source": [
    "parser_Left = LeftCornerChartParser(grammar)\n",
    "parsed_Left = parser_Left.parse(sentence)\n",
    "print('Num edges', parser_Left.chart_parse(sentence).num_edges())\n",
    "ts_l = []\n",
    "for t in parsed_Left:\n",
    "    ts_l.append(t)\n",
    "ts_l[0]"
   ]
  },
  {
   "cell_type": "code",
   "execution_count": 49,
   "metadata": {},
   "outputs": [
    {
     "data": {
      "text/plain": [
       "[[Edge: [0:1] 'lazy'],\n",
       " [Edge: [1:2] 'cats'],\n",
       " [Edge: [2:3] 'play'],\n",
       " [Edge: [3:4] 'with'],\n",
       " [Edge: [4:5] 'mice'],\n",
       " [Edge: [0:1] JJ -> 'lazy' *],\n",
       " [Edge: [0:1] S  -> JJ * NNS VP],\n",
       " [Edge: [0:1] NP -> JJ * NNS],\n",
       " [Edge: [1:2] NNS -> 'cats' *],\n",
       " [Edge: [1:2] NP -> NNS *],\n",
       " [Edge: [0:2] S  -> JJ NNS * VP],\n",
       " [Edge: [0:2] NP -> JJ NNS *],\n",
       " [Edge: [0:2] S  -> NP * VP],\n",
       " [Edge: [1:2] S  -> NP * VP],\n",
       " [Edge: [2:3] V  -> 'play' *],\n",
       " [Edge: [2:3] VP -> V * PP],\n",
       " [Edge: [2:3] VP -> V * PREP NP],\n",
       " [Edge: [3:4] PREP -> 'with' *],\n",
       " [Edge: [3:4] PP -> PREP * NP],\n",
       " [Edge: [2:4] VP -> V PREP * NP],\n",
       " [Edge: [4:5] NNS -> 'mice' *],\n",
       " [Edge: [4:5] NP -> NNS *],\n",
       " [Edge: [3:5] PP -> PREP NP *],\n",
       " [Edge: [2:5] VP -> V PREP NP *],\n",
       " [Edge: [0:5] S  -> JJ NNS VP *],\n",
       " [Edge: [0:5] S  -> NP VP *],\n",
       " [Edge: [1:5] S  -> NP VP *],\n",
       " [Edge: [2:5] VP -> V PP *]]"
      ]
     },
     "execution_count": 49,
     "metadata": {},
     "output_type": "execute_result"
    }
   ],
   "source": [
    "parser_Left.chart_parse(sentence).edges()"
   ]
  },
  {
   "cell_type": "markdown",
   "metadata": {},
   "source": []
  }
 ],
 "metadata": {
  "kernelspec": {
   "display_name": "Python 3",
   "language": "python",
   "name": "python3"
  },
  "language_info": {
   "codemirror_mode": {
    "name": "ipython",
    "version": 3
   },
   "file_extension": ".py",
   "mimetype": "text/x-python",
   "name": "python",
   "nbconvert_exporter": "python",
   "pygments_lexer": "ipython3",
   "version": "3.5.2"
  },
  "toc": {
   "base_numbering": 1,
   "nav_menu": {},
   "number_sections": true,
   "sideBar": true,
   "skip_h1_title": false,
   "title_cell": "Table of Contents",
   "title_sidebar": "Contents",
   "toc_cell": false,
   "toc_position": {},
   "toc_section_display": true,
   "toc_window_display": false
  }
 },
 "nbformat": 4,
 "nbformat_minor": 2
}
