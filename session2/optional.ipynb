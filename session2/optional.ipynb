{
 "cells": [
  {
   "cell_type": "markdown",
   "metadata": {},
   "source": [
    "# Optional exercise\n",
    "Build a language classifier"
   ]
  },
  {
   "cell_type": "code",
   "execution_count": 1,
   "metadata": {},
   "outputs": [],
   "source": [
    "import re\n",
    "import collections\n",
    "import time\n",
    "import math\n",
    "import multiprocessing\n",
    "from nltk.collocations import TrigramCollocationFinder\n",
    "from nltk.metrics.scores import accuracy\n",
    "from nltk.metrics import ConfusionMatrix\n",
    "from time import process_time"
   ]
  },
  {
   "cell_type": "markdown",
   "metadata": {},
   "source": [
    "The next functions is used just to *pretty* display the elapsed time"
   ]
  },
  {
   "cell_type": "code",
   "execution_count": 2,
   "metadata": {},
   "outputs": [],
   "source": [
    "def showTime(seconds):\n",
    "    if type(seconds) is float:\n",
    "        seconds = round(seconds * 1000)\n",
    "        return showTime(seconds // 1000) + str(seconds % 1000) + 'ms'\n",
    "    if   seconds < 59:    return str(seconds)          + 's '\n",
    "    elif seconds < 3599:  return str(seconds // 60)    + 'm ' + showTime(seconds % 60)\n",
    "    elif seconds < 86399: return str(seconds // 3600)  + 'h ' + showTime(seconds % 3600)\n",
    "    else:                 return str(seconds // 86400) + 'd ' + showTime(seconds % 86400)"
   ]
  },
  {
   "cell_type": "markdown",
   "metadata": {},
   "source": [
    "### Trigrams class \n",
    "Describes a set of trigrams with their names and frequencies\n",
    "* all: dictionary with trigrams frequencies as values and names as keys\n",
    "* min: minimum frequency to keep a trigram\n",
    "* B:   total number of different trigrams\n",
    "* N:   total number of trigrams"
   ]
  },
  {
   "cell_type": "code",
   "execution_count": 3,
   "metadata": {},
   "outputs": [],
   "source": [
    "class Trigrams:\n",
    "    def __init__(self, minimum=0):  # minimum frecuency to keep trigram\n",
    "        self.all = collections.defaultdict(lambda:0) # Default values for new keys is 0\n",
    "        self.min = minimum\n",
    "        self.B   = 0\n",
    "        self.N   = 0\n",
    "    \n",
    "    def build(self, txt):\n",
    "        self.all.clear()\n",
    "        finder = TrigramCollocationFinder.from_words(txt)\n",
    "        finder.apply_freq_filter(self.min)\n",
    "        for name, freq in finder.ngram_fd.items():\n",
    "            self.all[''.join(name)] = freq\n",
    "            self.N += freq\n",
    "        self.N = sum(self.all.values())\n",
    "        self.B = len(self.all)\n",
    "            \n",
    "    #### Without nltk\n",
    "    def build_NoNLTK(self, txt):\n",
    "        size = 3 # Trigrams\n",
    "        self.all.clear()\n",
    "        for i in range(len(txt) - size):\n",
    "            name = ''.join(txt[i + c] for c in range(self.n))\n",
    "            self.all[name] += 1\n",
    "        for name, freq in list(self.ngrams.items()):\n",
    "            if freq < self.min:\n",
    "                del self.all[name]\n",
    "        self.N = sum(self.all.values())\n",
    "        self.B = len(self.all)\n"
   ]
  },
  {
   "cell_type": "markdown",
   "metadata": {},
   "source": [
    "### Text class\n",
    "Parent class containing the function to preprocess text lines"
   ]
  },
  {
   "cell_type": "code",
   "execution_count": 4,
   "metadata": {},
   "outputs": [],
   "source": [
    "class Text:\n",
    "    # Removes all digits and punctuations\n",
    "    # Remove spaces at the start of the sentence\n",
    "    # Convert to lower case\n",
    "    # Convert multiple spaces to single ones\n",
    "    def preprocess(self, line):\n",
    "        line = re.sub(r'(\\d|[^\\w ])', ' ', line)\n",
    "        line = re.sub(r'^[ ]+', '', line)\n",
    "        line = line.lower()\n",
    "        line = re.sub(r'[ ]+', ' ', line)\n",
    "        return line"
   ]
  },
  {
   "cell_type": "markdown",
   "metadata": {},
   "source": [
    "### Lang class\n",
    "Child class of *Text* representing a language model with a *Trigrams set*\n",
    "* name: language name\n",
    "* trigrams: model trigrams"
   ]
  },
  {
   "cell_type": "code",
   "execution_count": 5,
   "metadata": {},
   "outputs": [],
   "source": [
    "class Lang(Text):\n",
    "    def __init__(self, name):\n",
    "        super()\n",
    "        self.name     = name\n",
    "        self.trigrams = Trigrams(minimum=5) # Minimum frequency to keep trigram = 5\n",
    "        \n",
    "    def buildModel(self, lines):\n",
    "        txt = ''\n",
    "        for line in lines:\n",
    "            txt  += self.preprocess(line).strip() + '  ' # Join lines within two spaces\n",
    "        self.trigrams.build(txt)"
   ]
  },
  {
   "cell_type": "markdown",
   "metadata": {},
   "source": [
    "## Generate Language models\n",
    "Each language model will be built from a list of 30,000 sentences preprocessed and using character trigrams"
   ]
  },
  {
   "cell_type": "code",
   "execution_count": 6,
   "metadata": {},
   "outputs": [],
   "source": [
    "names = ['deu', 'eng', 'fra', 'ita', 'nld', 'spa'] # All languages to use and test\n",
    "langs = {} # An entry for each language model"
   ]
  },
  {
   "cell_type": "code",
   "execution_count": 7,
   "metadata": {},
   "outputs": [
    {
     "name": "stdout",
     "output_type": "stream",
     "text": [
      "Generating lang models, please wait...\n",
      "Model for language \"deu\" complete.\n",
      "Model for language \"eng\" complete.\n",
      "Model for language \"fra\" complete.\n",
      "Model for language \"ita\" complete.\n",
      "Model for language \"nld\" complete.\n",
      "Model for language \"spa\" complete.\n",
      "Done in 1m 25s 31ms\n"
     ]
    }
   ],
   "source": [
    "print('Generating lang models, please wait...')\n",
    "start = process_time()\n",
    "\n",
    "for name in names:\n",
    "    langs[name] = Lang(name)\n",
    "    try:\n",
    "        with open('langId/%s_trn.txt' % name, 'r', encoding='utf8') as f: langs[name].buildModel(f.readlines())\n",
    "        print('Model for language \"%s\" complete.' % name)\n",
    "    except FileNotFoundError:\n",
    "        print('Files for language \"%s\" not found.' % name)\n",
    "\n",
    "print('Done in %s' % showTime(process_time() - start))"
   ]
  },
  {
   "cell_type": "markdown",
   "metadata": {},
   "source": [
    "## Generate tests sets"
   ]
  },
  {
   "cell_type": "markdown",
   "metadata": {},
   "source": [
    "### Sentence class\n",
    "Each sentence will contain:\n",
    "* txt: original text\n",
    "* guessLabel: how the text is classified \n",
    "* realLabel: how the text should have been classified\n",
    "* trigram: preprocessed text divided in trigrams and frequencies\n",
    "* probs: probability of being classified as each language\n"
   ]
  },
  {
   "cell_type": "code",
   "execution_count": 8,
   "metadata": {},
   "outputs": [],
   "source": [
    "class Sentence(Text):\n",
    "    def __init__(self, txt, realLabel='', guessLabel=''):\n",
    "        self.txt        = txt\n",
    "        self.guessLabel = guessLabel\n",
    "        self.realLabel  = realLabel\n",
    "        self.trigrams   = Trigrams()\n",
    "        self.probs      = collections.defaultdict(lambda:0) # Default probability for new keys is 0\n",
    "        self.trigrams.build(self.preprocess(self.txt))"
   ]
  },
  {
   "cell_type": "markdown",
   "metadata": {},
   "source": [
    "### Test class\n",
    "Holds a list of *Sentences* to be classified\n",
    "* sentences: -\n",
    "* l: lambda value for the Laplace smooth technique\n",
    "* accuracy: accuracy of all the classification process\n",
    "* cmatrix: confusion matrix of all the classification process"
   ]
  },
  {
   "cell_type": "code",
   "execution_count": 9,
   "metadata": {},
   "outputs": [],
   "source": [
    "class Test(Text):\n",
    "            \n",
    "    def __init__(self): \n",
    "        super()\n",
    "        self.sentences = []\n",
    "        self.l         = 1\n",
    "        self.accuracy  = 0\n",
    "        self.cmatrix   = None\n",
    "    \n",
    "    # Add a sentece to be tested\n",
    "    def addSentences(self, lines, realLabel):\n",
    "        for line in lines:\n",
    "            self.sentences.append(Sentence(line, realLabel))\n",
    "            \n",
    "    # Execute the test in all the sentences\n",
    "    def execute(self, langs):\n",
    "        ref = [] # Reference (real classification)\n",
    "        clf = [] # Classified\n",
    "        for sentence in self.sentences:\n",
    "            self.classify(sentence, langs) # Classification\n",
    "            ref.append(sentence.realLabel)\n",
    "            clf.append(sentence.guessLabel)\n",
    "        self.accuracy = accuracy(ref, clf)\n",
    "        self.cmatrix  = ConfusionMatrix(ref, clf)\n",
    "    \n",
    "    # Classify a sentence in a language\n",
    "    def classify(self, sentence, langs):\n",
    "        best = float('-inf') # Best classification score\n",
    "        \n",
    "        for lang in langs:\n",
    "            prob = 0\n",
    "            for name, freq in sentence.trigrams.all.items():\n",
    "                Ct = lang.trigrams.all[name]\n",
    "                Nt = lang.trigrams.N\n",
    "                B  = lang.trigrams.B\n",
    "                prob += math.log((Ct + self.l) / (Nt + self.l * B)) * freq # Laplace smooth technique\n",
    "            if prob > best: # Check if this language fits better\n",
    "                best = prob\n",
    "                sentence.guessLabel = lang.name\n",
    "            sentence.probs[lang.name] = prob\n",
    "                \n",
    "        "
   ]
  },
  {
   "cell_type": "markdown",
   "metadata": {},
   "source": [
    "First, tests sentences are loaded, 10,000 per language"
   ]
  },
  {
   "cell_type": "code",
   "execution_count": 10,
   "metadata": {},
   "outputs": [
    {
     "name": "stdout",
     "output_type": "stream",
     "text": [
      "Generating tests, please wait...\n",
      "Loaded sentences for language \"deu\" test complete.\n",
      "Loaded sentences for language \"eng\" test complete.\n",
      "Loaded sentences for language \"fra\" test complete.\n",
      "Loaded sentences for language \"ita\" test complete.\n",
      "Loaded sentences for language \"nld\" test complete.\n",
      "Loaded sentences for language \"spa\" test complete.\n",
      "Done in 33s 391ms\n"
     ]
    }
   ],
   "source": [
    "test = Test()\n",
    "\n",
    "print('Generating tests, please wait...')\n",
    "start = process_time()\n",
    "\n",
    "for name in names:\n",
    "    try:\n",
    "        with open('langId/%s_tst.txt' % name, 'r', encoding='utf8') as f: test.addSentences(f.readlines(), name)\n",
    "        print('Loaded sentences for language \"%s\" test complete.' % name)\n",
    "    except FileNotFoundError:\n",
    "        print('Files for language \"%s\" not found.' % name)\n",
    "\n",
    "print('Done in %s' % showTime(process_time() - start))"
   ]
  },
  {
   "cell_type": "markdown",
   "metadata": {},
   "source": [
    "Then, we run the tests..."
   ]
  },
  {
   "cell_type": "code",
   "execution_count": 11,
   "metadata": {},
   "outputs": [
    {
     "name": "stdout",
     "output_type": "stream",
     "text": [
      "Executing tests, please wait...\n",
      "Accuracy: 0.9984494056054821 \n",
      "\n",
      "    |    d    e    f    i    n    s |\n",
      "    |    e    n    r    t    l    p |\n",
      "    |    u    g    a    a    d    a |\n",
      "----+-------------------------------+\n",
      "deu |<9978>   6    .    .    4    2 |\n",
      "eng |    1<9982>   1    .    3    . |\n",
      "fra |    1    6<9985>   3    2    3 |\n",
      "ita |    1   11    4<9977>   .    7 |\n",
      "nld |    6   12    2    3<9975>   2 |\n",
      "spa |    .    6    1    6    .<9987>|\n",
      "----+-------------------------------+\n",
      "(row = reference; col = test)\n",
      "\n",
      "Done in 21s 500ms\n"
     ]
    }
   ],
   "source": [
    "print('Executing tests, please wait...')\n",
    "start = process_time()\n",
    "\n",
    "test.execute(langs.values())\n",
    "print('Accuracy:', test.accuracy, '\\n')\n",
    "print(test.cmatrix.pretty_format())\n",
    "\n",
    "print('Done in %s' % showTime(process_time() - start))"
   ]
  }
 ],
 "metadata": {
  "kernelspec": {
   "display_name": "Python 3",
   "language": "python",
   "name": "python3"
  },
  "language_info": {
   "codemirror_mode": {
    "name": "ipython",
    "version": 3
   },
   "file_extension": ".py",
   "mimetype": "text/x-python",
   "name": "python",
   "nbconvert_exporter": "python",
   "pygments_lexer": "ipython3",
   "version": "3.6.5"
  }
 },
 "nbformat": 4,
 "nbformat_minor": 2
}
