{
 "cells": [
  {
   "cell_type": "markdown",
   "metadata": {},
   "source": [
    "# Things to ask the teacher"
   ]
  },
  {
   "cell_type": "code",
   "execution_count": null,
   "metadata": {},
   "outputs": [],
   "source": [
    "init = time()\n",
    "def set_kernel(m1,m2):\n",
    "    # m1.shape = (n_samples_1, n_features),\n",
    "    # m2.shape = (n_samples_2, n_features)\n",
    "    # return M (n_samples_1,n_samples2)\n",
    "    n_samples_1 = m1.shape[0]\n",
    "    n_samples_2 = m2.shape[0]\n",
    "    M = np.zeros([n_samples_1,n_samples_2])\n",
    "    for i in range(n_samples_1):\n",
    "        for j in range(n_samples_2):\n",
    "            M[i,j] = 2 ** len(set(m1[i,:]).intersection(set(m2[j,:])))\n",
    "    return M\n",
    "init = time()\n",
    "\n",
    "clf2 = SVC(kernel=set_kernel)\n",
    "clf2.fit(['a','b','c'],[1,0,2])\n",
    "\n",
    "preds = clf2.predict(X_test_hand['sentence'].values)\n",
    "print('Accuracy:',round(accuracy(y_test,preds),3))\n",
    "print(ConfusionMatrix(y_test.tolist(),preds).pretty_format())\n",
    "print('time:', timedelta(seconds=time() - init))           "
   ]
  },
  {
   "cell_type": "code",
   "execution_count": null,
   "metadata": {},
   "outputs": [],
   "source": [
    "m1 = np.array([[1,2],[3,4],[9,3]])\n",
    "m2 = np.array([[6,7],[2,1],[2,4]])\n",
    "set_kernel(m1,m2)"
   ]
  }
 ],
 "metadata": {
  "kernelspec": {
   "display_name": "Python 3",
   "language": "python",
   "name": "python3"
  },
  "language_info": {
   "codemirror_mode": {
    "name": "ipython",
    "version": 3
   },
   "file_extension": ".py",
   "mimetype": "text/x-python",
   "name": "python",
   "nbconvert_exporter": "python",
   "pygments_lexer": "ipython3",
   "version": "3.6.5"
  }
 },
 "nbformat": 4,
 "nbformat_minor": 2
}
