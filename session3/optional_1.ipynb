{
 "cells": [
  {
   "cell_type": "markdown",
   "metadata": {},
   "source": [
    "# Optional Exercise 1\n",
    "\n",
    "**Read the words from the attached file:**"
   ]
  },
  {
   "cell_type": "code",
   "execution_count": 1,
   "metadata": {},
   "outputs": [
    {
     "data": {
      "text/html": [
       "<div>\n",
       "<style scoped>\n",
       "    .dataframe tbody tr th:only-of-type {\n",
       "        vertical-align: middle;\n",
       "    }\n",
       "\n",
       "    .dataframe tbody tr th {\n",
       "        vertical-align: top;\n",
       "    }\n",
       "\n",
       "    .dataframe thead th {\n",
       "        text-align: right;\n",
       "    }\n",
       "</style>\n",
       "<table border=\"1\" class=\"dataframe\">\n",
       "  <thead>\n",
       "    <tr style=\"text-align: right;\">\n",
       "      <th></th>\n",
       "      <th>words</th>\n",
       "    </tr>\n",
       "  </thead>\n",
       "  <tbody>\n",
       "    <tr>\n",
       "      <th>0</th>\n",
       "      <td>a</td>\n",
       "    </tr>\n",
       "    <tr>\n",
       "      <th>1</th>\n",
       "      <td>aah</td>\n",
       "    </tr>\n",
       "    <tr>\n",
       "      <th>2</th>\n",
       "      <td>aahed</td>\n",
       "    </tr>\n",
       "    <tr>\n",
       "      <th>3</th>\n",
       "      <td>aahing</td>\n",
       "    </tr>\n",
       "    <tr>\n",
       "      <th>4</th>\n",
       "      <td>aahs</td>\n",
       "    </tr>\n",
       "  </tbody>\n",
       "</table>\n",
       "</div>"
      ],
      "text/plain": [
       "    words\n",
       "0       a\n",
       "1     aah\n",
       "2   aahed\n",
       "3  aahing\n",
       "4    aahs"
      ]
     },
     "execution_count": 1,
     "metadata": {},
     "output_type": "execute_result"
    }
   ],
   "source": [
    "import pandas as pd\n",
    "from nltk.metrics.distance import edit_distance \n",
    "\n",
    "path = 'data/wordsEn.txt'\n",
    "corpus = pd.read_csv(path, lineterminator='\\n', names=['words'], header=None)\n",
    "corpus['words'] = corpus['words'].str.replace('\\r','')\n",
    "corpus.head()"
   ]
  },
  {
   "cell_type": "markdown",
   "metadata": {},
   "source": [
    "**Implement the basic approach:**"
   ]
  },
  {
   "cell_type": "code",
   "execution_count": 2,
   "metadata": {},
   "outputs": [],
   "source": [
    "def purgue_words(word, corpus_words, lenght=2.5):\n",
    "    l = len(word)\n",
    "    purgued = [w for w in corpus_words if len(w) < lenght*l]\n",
    "    return purgued\n",
    "\n",
    "def spelling_correction(word,corpus):\n",
    "    \"\"\"\n",
    "    Returns the word if correct, or a list of words with the minimum edit\n",
    "    distance found if it's not.\n",
    "    \"\"\"\n",
    "    if word in list(corpus['words']):\n",
    "        return word, 0\n",
    "    else: \n",
    "        most_sim_word = []\n",
    "        min_distance = float('inf')\n",
    "        # We delete from the corpus the words with size greater than three times the size of the word\n",
    "        corpus_words = purgue_words(word,list(corpus['words']) )\n",
    "        for corpus_word in corpus_words:\n",
    "            new_distance = edit_distance(word,corpus_word)\n",
    "            \n",
    "            if new_distance == min_distance:\n",
    "                most_sim_word.append(corpus_word)\n",
    "            if new_distance < min_distance:\n",
    "                min_distance = new_distance\n",
    "                most_sim_word = []\n",
    "                most_sim_word.append(corpus_word)\n",
    "        return most_sim_word, min_distance"
   ]
  },
  {
   "cell_type": "markdown",
   "metadata": {},
   "source": [
    "**Use the approach to correct the words something, soemthing and some others:**"
   ]
  },
  {
   "cell_type": "code",
   "execution_count": 3,
   "metadata": {},
   "outputs": [
    {
     "name": "stdout",
     "output_type": "stream",
     "text": [
      "Original word: something \n",
      "Corrected words: something \n",
      "Distance: 0 \n",
      "\n",
      "Original word: soemthing \n",
      "Corrected words: 'seething', 'sheathing', 'sleuthing', 'something', 'soothing', 'southing' \n",
      "Distance: 2 \n",
      "\n",
      "Original word: potato \n",
      "Corrected words: potato \n",
      "Distance: 0 \n",
      "\n",
      "Original word: flower \n",
      "Corrected words: flower \n",
      "Distance: 0 \n",
      "\n",
      "Original word: sleping \n",
      "Corrected words: 'seeping', 'sleeping', 'slewing', 'sloping' \n",
      "Distance: 1 \n",
      "\n"
     ]
    }
   ],
   "source": [
    "test = ['something','soemthing','potato','flower','sleping']\n",
    "\n",
    "for word in test: \n",
    "    new_word, distance = spelling_correction(word,corpus)\n",
    "    print('Original word:', word, '\\nCorrected words:',  str(new_word).replace('[','').replace(']',''), '\\nDistance:', distance, '\\n')"
   ]
  }
 ],
 "metadata": {
  "kernelspec": {
   "display_name": "Python 3",
   "language": "python",
   "name": "python3"
  },
  "language_info": {
   "codemirror_mode": {
    "name": "ipython",
    "version": 3
   },
   "file_extension": ".py",
   "mimetype": "text/x-python",
   "name": "python",
   "nbconvert_exporter": "python",
   "pygments_lexer": "ipython3",
   "version": "3.6.5"
  }
 },
 "nbformat": 4,
 "nbformat_minor": 2
}
