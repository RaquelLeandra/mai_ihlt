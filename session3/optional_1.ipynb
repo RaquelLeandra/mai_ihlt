{
 "cells": [
  {
   "cell_type": "markdown",
   "metadata": {},
   "source": [
    "# Optional Excercise 1\n",
    "\n",
    "**Read the words from the attached file:**"
   ]
  },
  {
   "cell_type": "code",
   "execution_count": 1,
   "metadata": {},
   "outputs": [
    {
     "data": {
      "text/html": [
       "<div>\n",
       "<style scoped>\n",
       "    .dataframe tbody tr th:only-of-type {\n",
       "        vertical-align: middle;\n",
       "    }\n",
       "\n",
       "    .dataframe tbody tr th {\n",
       "        vertical-align: top;\n",
       "    }\n",
       "\n",
       "    .dataframe thead th {\n",
       "        text-align: right;\n",
       "    }\n",
       "</style>\n",
       "<table border=\"1\" class=\"dataframe\">\n",
       "  <thead>\n",
       "    <tr style=\"text-align: right;\">\n",
       "      <th></th>\n",
       "      <th>words</th>\n",
       "    </tr>\n",
       "  </thead>\n",
       "  <tbody>\n",
       "    <tr>\n",
       "      <th>0</th>\n",
       "      <td>a</td>\n",
       "    </tr>\n",
       "    <tr>\n",
       "      <th>1</th>\n",
       "      <td>aah</td>\n",
       "    </tr>\n",
       "    <tr>\n",
       "      <th>2</th>\n",
       "      <td>aahed</td>\n",
       "    </tr>\n",
       "    <tr>\n",
       "      <th>3</th>\n",
       "      <td>aahing</td>\n",
       "    </tr>\n",
       "    <tr>\n",
       "      <th>4</th>\n",
       "      <td>aahs</td>\n",
       "    </tr>\n",
       "  </tbody>\n",
       "</table>\n",
       "</div>"
      ],
      "text/plain": [
       "    words\n",
       "0       a\n",
       "1     aah\n",
       "2   aahed\n",
       "3  aahing\n",
       "4    aahs"
      ]
     },
     "execution_count": 1,
     "metadata": {},
     "output_type": "execute_result"
    }
   ],
   "source": [
    "import pandas as pd\n",
    "from nltk.metrics.distance import edit_distance \n",
    "\n",
    "path = 'data/wordsEn.txt'\n",
    "corpus = pd.read_csv(path, lineterminator='\\n', names=['words'], header=None)\n",
    "corpus['words'] = corpus['words'].str.replace('\\r','')\n",
    "corpus.head()"
   ]
  },
  {
   "cell_type": "markdown",
   "metadata": {},
   "source": [
    "**Implement the basic approach:**"
   ]
  },
  {
   "cell_type": "code",
   "execution_count": 2,
   "metadata": {},
   "outputs": [],
   "source": [
    "def spelling_correction(word,corpus):\n",
    "    \"\"\"\n",
    "    Return the word if correct, or the word in the list with minimum edit distance id it do not belong to list\n",
    "    \"\"\"\n",
    "    if word in list(corpus['words']):\n",
    "        return word, 0\n",
    "    else: \n",
    "        most_sim_word = 'none'\n",
    "        min_distance = 9999999\n",
    "        \n",
    "        for corpus_word in list(corpus['words']):\n",
    "            new_distance = edit_distance(word,corpus_word)\n",
    "            if new_distance < min_distance:\n",
    "                min_distance = new_distance\n",
    "                most_sim_word = corpus_word\n",
    "            if min_distance == 1:\n",
    "                return most_sim_word,min_distance\n",
    "        return most_sim_word, min_distance"
   ]
  },
  {
   "cell_type": "markdown",
   "metadata": {},
   "source": [
    "**Use the approach to correct the words something, soemthing and some others:**"
   ]
  },
  {
   "cell_type": "code",
   "execution_count": 3,
   "metadata": {},
   "outputs": [
    {
     "name": "stdout",
     "output_type": "stream",
     "text": [
      "Original word: something Corrected word: something Distance: 0 \n",
      "\n",
      "Original word: soemthing Corrected word: seething Distance: 2 \n",
      "\n",
      "Original word: potato Corrected word: potato Distance: 0 \n",
      "\n",
      "Original word: flower Corrected word: flower Distance: 0 \n",
      "\n",
      "Original word: sleping Corrected word: seeping Distance: 1 \n",
      "\n"
     ]
    }
   ],
   "source": [
    "test = ['something','soemthing','potato','flower','sleping']\n",
    "\n",
    "for word in test: \n",
    "    new_word, distance = spelling_correction(word,corpus)\n",
    "    print('Original word:', word, 'Corrected word:',  new_word, 'Distance:', distance, '\\n')"
   ]
  }
 ],
 "metadata": {
  "kernelspec": {
   "display_name": "Python 3",
   "language": "python",
   "name": "python3"
  },
  "language_info": {
   "codemirror_mode": {
    "name": "ipython",
    "version": 3
   },
   "file_extension": ".py",
   "mimetype": "text/x-python",
   "name": "python",
   "nbconvert_exporter": "python",
   "pygments_lexer": "ipython3",
   "version": "3.6.5"
  }
 },
 "nbformat": 4,
 "nbformat_minor": 2
}
