{
 "cells": [
  {
   "cell_type": "markdown",
   "metadata": {},
   "source": [
    "# Optional 2: Spam classification"
   ]
  },
  {
   "cell_type": "code",
   "execution_count": 2,
   "metadata": {},
   "outputs": [],
   "source": [
    "import pandas as pd\n",
    "from nltk.metrics.distance import edit_distance \n",
    "from nltk.metrics import ConfusionMatrix\n",
    "import numpy as np\n",
    "from time import time\n",
    "from datetime import timedelta"
   ]
  },
  {
   "cell_type": "code",
   "execution_count": 3,
   "metadata": {},
   "outputs": [
    {
     "data": {
      "text/html": [
       "<div>\n",
       "<style scoped>\n",
       "    .dataframe tbody tr th:only-of-type {\n",
       "        vertical-align: middle;\n",
       "    }\n",
       "\n",
       "    .dataframe tbody tr th {\n",
       "        vertical-align: top;\n",
       "    }\n",
       "\n",
       "    .dataframe thead th {\n",
       "        text-align: right;\n",
       "    }\n",
       "</style>\n",
       "<table border=\"1\" class=\"dataframe\">\n",
       "  <thead>\n",
       "    <tr style=\"text-align: right;\">\n",
       "      <th></th>\n",
       "      <th>label</th>\n",
       "      <th>sentence</th>\n",
       "    </tr>\n",
       "  </thead>\n",
       "  <tbody>\n",
       "    <tr>\n",
       "      <th>0</th>\n",
       "      <td>ham</td>\n",
       "      <td>Go until jurong point, crazy.. Available only ...</td>\n",
       "    </tr>\n",
       "    <tr>\n",
       "      <th>1</th>\n",
       "      <td>ham</td>\n",
       "      <td>Ok lar... Joking wif u oni...</td>\n",
       "    </tr>\n",
       "    <tr>\n",
       "      <th>2</th>\n",
       "      <td>spam</td>\n",
       "      <td>Free entry in 2 a wkly comp to win FA Cup fina...</td>\n",
       "    </tr>\n",
       "    <tr>\n",
       "      <th>3</th>\n",
       "      <td>ham</td>\n",
       "      <td>U dun say so early hor... U c already then say...</td>\n",
       "    </tr>\n",
       "    <tr>\n",
       "      <th>4</th>\n",
       "      <td>ham</td>\n",
       "      <td>Nah I don't think he goes to usf, he lives aro...</td>\n",
       "    </tr>\n",
       "  </tbody>\n",
       "</table>\n",
       "</div>"
      ],
      "text/plain": [
       "  label                                           sentence\n",
       "0   ham  Go until jurong point, crazy.. Available only ...\n",
       "1   ham                      Ok lar... Joking wif u oni...\n",
       "2  spam  Free entry in 2 a wkly comp to win FA Cup fina...\n",
       "3   ham  U dun say so early hor... U c already then say...\n",
       "4   ham  Nah I don't think he goes to usf, he lives aro..."
      ]
     },
     "execution_count": 3,
     "metadata": {},
     "output_type": "execute_result"
    }
   ],
   "source": [
    "path = 'data/SMSSpamCollection'\n",
    "corpus = pd.read_csv(path, lineterminator='\\n',sep='\\t', names=['label', 'sentence'], header=None)\n",
    "corpus.head()"
   ]
  },
  {
   "cell_type": "code",
   "execution_count": 4,
   "metadata": {},
   "outputs": [],
   "source": [
    "def preprocessing(data):\n",
    "    # remove the digits and puntuation\n",
    "    #data['sentence'] = data['sentence'].str.replace('\\d+', '')\n",
    "    # convert to lowercase\n",
    "    data['sentence'] = data['sentence'].str.replace('\\W+', ' ')\n",
    "    # replace continuous white spaces by a single one\n",
    "    data['sentence'] = data['sentence'].str.replace('\\s+', ' ')\n",
    "    data['sentence'] =[a.strip().lower() for a in data['sentence']] \n",
    "    return data"
   ]
  },
  {
   "cell_type": "code",
   "execution_count": 5,
   "metadata": {},
   "outputs": [
    {
     "data": {
      "text/html": [
       "<div>\n",
       "<style scoped>\n",
       "    .dataframe tbody tr th:only-of-type {\n",
       "        vertical-align: middle;\n",
       "    }\n",
       "\n",
       "    .dataframe tbody tr th {\n",
       "        vertical-align: top;\n",
       "    }\n",
       "\n",
       "    .dataframe thead th {\n",
       "        text-align: right;\n",
       "    }\n",
       "</style>\n",
       "<table border=\"1\" class=\"dataframe\">\n",
       "  <thead>\n",
       "    <tr style=\"text-align: right;\">\n",
       "      <th></th>\n",
       "      <th>sentence</th>\n",
       "    </tr>\n",
       "  </thead>\n",
       "  <tbody>\n",
       "    <tr>\n",
       "      <th>0</th>\n",
       "      <td>go until jurong point crazy available only in ...</td>\n",
       "    </tr>\n",
       "    <tr>\n",
       "      <th>1</th>\n",
       "      <td>ok lar joking wif u oni</td>\n",
       "    </tr>\n",
       "    <tr>\n",
       "      <th>2</th>\n",
       "      <td>free entry in 2 a wkly comp to win fa cup fina...</td>\n",
       "    </tr>\n",
       "    <tr>\n",
       "      <th>3</th>\n",
       "      <td>u dun say so early hor u c already then say</td>\n",
       "    </tr>\n",
       "    <tr>\n",
       "      <th>4</th>\n",
       "      <td>nah i don t think he goes to usf he lives arou...</td>\n",
       "    </tr>\n",
       "  </tbody>\n",
       "</table>\n",
       "</div>"
      ],
      "text/plain": [
       "                                            sentence\n",
       "0  go until jurong point crazy available only in ...\n",
       "1                            ok lar joking wif u oni\n",
       "2  free entry in 2 a wkly comp to win fa cup fina...\n",
       "3        u dun say so early hor u c already then say\n",
       "4  nah i don t think he goes to usf he lives arou..."
      ]
     },
     "execution_count": 5,
     "metadata": {},
     "output_type": "execute_result"
    }
   ],
   "source": [
    "corpus = preprocessing(corpus)\n",
    "y = corpus['label']\n",
    "X = corpus.drop('label',axis=1)\n",
    "X.head()"
   ]
  },
  {
   "cell_type": "code",
   "execution_count": 6,
   "metadata": {},
   "outputs": [],
   "source": [
    "from sklearn.model_selection import train_test_split\n",
    "from nltk.metrics.scores import accuracy\n",
    "X_train, X_test, y_train, y_test = train_test_split(X, y, test_size=0.50, random_state=42)"
   ]
  },
  {
   "cell_type": "markdown",
   "metadata": {},
   "source": [
    "### Handmade KNN"
   ]
  },
  {
   "cell_type": "code",
   "execution_count": 7,
   "metadata": {},
   "outputs": [
    {
     "data": {
      "text/html": [
       "<div>\n",
       "<style scoped>\n",
       "    .dataframe tbody tr th:only-of-type {\n",
       "        vertical-align: middle;\n",
       "    }\n",
       "\n",
       "    .dataframe tbody tr th {\n",
       "        vertical-align: top;\n",
       "    }\n",
       "\n",
       "    .dataframe thead th {\n",
       "        text-align: right;\n",
       "    }\n",
       "</style>\n",
       "<table border=\"1\" class=\"dataframe\">\n",
       "  <thead>\n",
       "    <tr style=\"text-align: right;\">\n",
       "      <th></th>\n",
       "      <th>sentence</th>\n",
       "    </tr>\n",
       "  </thead>\n",
       "  <tbody>\n",
       "    <tr>\n",
       "      <th>3406</th>\n",
       "      <td>[jus, chillaxin, what, up]</td>\n",
       "    </tr>\n",
       "    <tr>\n",
       "      <th>383</th>\n",
       "      <td>[hey, leave, it, not, a, big, deal, take, care]</td>\n",
       "    </tr>\n",
       "    <tr>\n",
       "      <th>852</th>\n",
       "      <td>[i, am, real, baby, i, want, to, bring, out, y...</td>\n",
       "    </tr>\n",
       "    <tr>\n",
       "      <th>1880</th>\n",
       "      <td>[u, have, a, secret, admirer, who, is, looking...</td>\n",
       "    </tr>\n",
       "    <tr>\n",
       "      <th>370</th>\n",
       "      <td>[cool, text, me, when, you, re, ready]</td>\n",
       "    </tr>\n",
       "  </tbody>\n",
       "</table>\n",
       "</div>"
      ],
      "text/plain": [
       "                                               sentence\n",
       "3406                         [jus, chillaxin, what, up]\n",
       "383     [hey, leave, it, not, a, big, deal, take, care]\n",
       "852   [i, am, real, baby, i, want, to, bring, out, y...\n",
       "1880  [u, have, a, secret, admirer, who, is, looking...\n",
       "370              [cool, text, me, when, you, re, ready]"
      ]
     },
     "execution_count": 7,
     "metadata": {},
     "output_type": "execute_result"
    }
   ],
   "source": [
    "X_train_hand = X_train.copy()\n",
    "X_train_hand['sentence']= X_train['sentence'].str.split()\n",
    "X_train_hand.head()"
   ]
  },
  {
   "cell_type": "code",
   "execution_count": 8,
   "metadata": {},
   "outputs": [
    {
     "data": {
      "text/html": [
       "<div>\n",
       "<style scoped>\n",
       "    .dataframe tbody tr th:only-of-type {\n",
       "        vertical-align: middle;\n",
       "    }\n",
       "\n",
       "    .dataframe tbody tr th {\n",
       "        vertical-align: top;\n",
       "    }\n",
       "\n",
       "    .dataframe thead th {\n",
       "        text-align: right;\n",
       "    }\n",
       "</style>\n",
       "<table border=\"1\" class=\"dataframe\">\n",
       "  <thead>\n",
       "    <tr style=\"text-align: right;\">\n",
       "      <th></th>\n",
       "      <th>sentence</th>\n",
       "    </tr>\n",
       "  </thead>\n",
       "  <tbody>\n",
       "    <tr>\n",
       "      <th>3245</th>\n",
       "      <td>[squeeeeeze, this, is, christmas, hug, if, u, ...</td>\n",
       "    </tr>\n",
       "    <tr>\n",
       "      <th>944</th>\n",
       "      <td>[and, also, i, ve, sorta, blown, him, off, a, ...</td>\n",
       "    </tr>\n",
       "    <tr>\n",
       "      <th>1044</th>\n",
       "      <td>[mmm, thats, better, now, i, got, a, roast, do...</td>\n",
       "    </tr>\n",
       "    <tr>\n",
       "      <th>2484</th>\n",
       "      <td>[mm, have, some, kanji, dont, eat, anything, h...</td>\n",
       "    </tr>\n",
       "    <tr>\n",
       "      <th>812</th>\n",
       "      <td>[so, there, s, a, ring, that, comes, with, the...</td>\n",
       "    </tr>\n",
       "  </tbody>\n",
       "</table>\n",
       "</div>"
      ],
      "text/plain": [
       "                                               sentence\n",
       "3245  [squeeeeeze, this, is, christmas, hug, if, u, ...\n",
       "944   [and, also, i, ve, sorta, blown, him, off, a, ...\n",
       "1044  [mmm, thats, better, now, i, got, a, roast, do...\n",
       "2484  [mm, have, some, kanji, dont, eat, anything, h...\n",
       "812   [so, there, s, a, ring, that, comes, with, the..."
      ]
     },
     "execution_count": 8,
     "metadata": {},
     "output_type": "execute_result"
    }
   ],
   "source": [
    "X_test_hand = X_test.copy()\n",
    "X_test_hand['sentence']= X_test['sentence'].str.split()\n",
    "X_test_hand.head()"
   ]
  },
  {
   "cell_type": "code",
   "execution_count": 9,
   "metadata": {},
   "outputs": [],
   "source": [
    "from nltk.metrics.distance import jaccard_distance\n",
    "\n",
    "jaccard = lambda a,b : jaccard_distance(set(a),set(b))\n",
    "\n",
    "def knn(ex,d=jaccard):\n",
    "    try:\n",
    "        dis = [d(train, ex) for train in X_train_hand['sentence']]\n",
    "        index = X_train_hand['sentence'].index[np.argmin(dis)]\n",
    "        label = y_train[index]\n",
    "    # If the sentence is not valid (or has len 0) return a random value\n",
    "    except:\n",
    "        labs = ['spam','ham']\n",
    "        label = labs[np.random.randint(0,2)]\n",
    "    return label\n",
    "\n",
    "def test_knn(x_test):\n",
    "    preds = []\n",
    "    for val in x_test['sentence'].values:\n",
    "        preds.append(knn(val))\n",
    "    print('Accuracy:',round(accuracy(y_test,preds),3))\n",
    "    print(ConfusionMatrix(y_test.tolist(),preds).pretty_format())"
   ]
  },
  {
   "cell_type": "code",
   "execution_count": 10,
   "metadata": {},
   "outputs": [
    {
     "name": "stdout",
     "output_type": "stream",
     "text": [
      "Accuracy: 0.981\n",
      "     |         s |\n",
      "     |    h    p |\n",
      "     |    a    a |\n",
      "     |    m    m |\n",
      "-----+-----------+\n",
      " ham |<2397>  19 |\n",
      "spam |   34 <336>|\n",
      "-----+-----------+\n",
      "(row = reference; col = test)\n",
      "\n",
      "time: 0:00:31.059042\n"
     ]
    }
   ],
   "source": [
    "init = time()\n",
    "test_knn(X_test_hand)\n",
    "print('time:', timedelta(seconds=time() - init))"
   ]
  },
  {
   "cell_type": "markdown",
   "metadata": {},
   "source": [
    "### Sklearn version KNN"
   ]
  },
  {
   "cell_type": "code",
   "execution_count": 11,
   "metadata": {},
   "outputs": [],
   "source": [
    "from sklearn.feature_extraction.text import CountVectorizer\n",
    "cv = CountVectorizer()\n",
    "\n",
    "X_train = cv.fit_transform(X_train['sentence'])\n",
    "X_test = cv.transform(X_test['sentence'])"
   ]
  },
  {
   "cell_type": "code",
   "execution_count": 12,
   "metadata": {
    "scrolled": true
   },
   "outputs": [
    {
     "name": "stdout",
     "output_type": "stream",
     "text": [
      "Accuracy: 0.978\n",
      "     |         s |\n",
      "     |    h    p |\n",
      "     |    a    a |\n",
      "     |    m    m |\n",
      "-----+-----------+\n",
      " ham |<2398>  18 |\n",
      "spam |   44 <326>|\n",
      "-----+-----------+\n",
      "(row = reference; col = test)\n",
      "\n",
      "time: 0:01:23.509468\n"
     ]
    }
   ],
   "source": [
    "from sklearn.neighbors import KNeighborsClassifier\n",
    "init = time()\n",
    "\n",
    "clf = KNeighborsClassifier(1,metric='jaccard')\n",
    "clf.fit(X_train.todense(),y_train)\n",
    "\n",
    "preds = clf.predict(X_test.todense()).tolist()\n",
    "print('Accuracy:',round(accuracy(y_test,preds),3))\n",
    "print(ConfusionMatrix(y_test.tolist(),preds).pretty_format())\n",
    "print('time:', timedelta(seconds=time() - init))"
   ]
  },
  {
   "cell_type": "markdown",
   "metadata": {},
   "source": [
    "### Simple SVM"
   ]
  },
  {
   "cell_type": "code",
   "execution_count": 13,
   "metadata": {
    "scrolled": true
   },
   "outputs": [
    {
     "name": "stdout",
     "output_type": "stream",
     "text": [
      "Accuracy: 0.987\n",
      "     |         s |\n",
      "     |    h    p |\n",
      "     |    a    a |\n",
      "     |    m    m |\n",
      "-----+-----------+\n",
      " ham |<2414>   2 |\n",
      "spam |   33 <337>|\n",
      "-----+-----------+\n",
      "(row = reference; col = test)\n",
      "\n",
      "time: 0:01:23.887914\n"
     ]
    }
   ],
   "source": [
    "from sklearn.svm import SVC\n",
    "\n",
    "clf = SVC(kernel='linear')\n",
    "clf.fit(X_train,y_train)\n",
    "\n",
    "preds = clf.predict(X_test).tolist()\n",
    "print('Accuracy:',round(accuracy(y_test,preds),3))\n",
    "print(ConfusionMatrix(y_test.tolist(),preds).pretty_format())\n",
    "print('time:', timedelta(seconds=time() - init))           "
   ]
  },
  {
   "cell_type": "markdown",
   "metadata": {},
   "source": [
    "### Custom Kernel SVM"
   ]
  },
  {
   "cell_type": "code",
   "execution_count": 14,
   "metadata": {},
   "outputs": [],
   "source": [
    "def calculate_kernel_matrix(m1,m2):\n",
    "    # m1.shape = (n_samples_1, n_features),\n",
    "    # m2.shape = (n_samples_2, n_features)\n",
    "    # return M (n_samples_1,n_samples2)\n",
    "    n_samples_1 = m1.shape[0]\n",
    "    n_samples_2 = m2.shape[0]\n",
    "    M = np.zeros([n_samples_1,n_samples_2])\n",
    "    k = 0\n",
    "    for i in m1.index:\n",
    "        l = 0\n",
    "        for j in m2.index:\n",
    "            M[k,l] = 2 ** len(set(m1[i]).intersection(set(m2[j])))\n",
    "            l+=1\n",
    "        k+=1\n",
    "    return M"
   ]
  },
  {
   "cell_type": "code",
   "execution_count": 15,
   "metadata": {},
   "outputs": [],
   "source": [
    "init = time()\n",
    "clf2 = SVC(kernel='precomputed')\n",
    "clf2.fit(calculate_kernel_matrix(X_train_hand['sentence'], X_train_hand['sentence']),y_train)\n",
    "preds = clf2.predict(calculate_kernel_matrix(X_test_hand['sentence'], X_train_hand['sentence']))"
   ]
  },
  {
   "cell_type": "code",
   "execution_count": 16,
   "metadata": {},
   "outputs": [
    {
     "name": "stdout",
     "output_type": "stream",
     "text": [
      "Accuracy: 0.901\n",
      "     |         s |\n",
      "     |    h    p |\n",
      "     |    a    a |\n",
      "     |    m    m |\n",
      "-----+-----------+\n",
      " ham |<2416>   . |\n",
      "spam |  277  <93>|\n",
      "-----+-----------+\n",
      "(row = reference; col = test)\n",
      "\n",
      "time: 0:09:17.403736\n"
     ]
    }
   ],
   "source": [
    "print('Accuracy:',round(accuracy(y_test,preds),3))\n",
    "print(ConfusionMatrix(list(y_test),list(preds)).pretty_format())\n",
    "print('time:', timedelta(seconds=time() - init))           "
   ]
  }
 ],
 "metadata": {
  "kernelspec": {
   "display_name": "Python 3",
   "language": "python",
   "name": "python3"
  },
  "language_info": {
   "codemirror_mode": {
    "name": "ipython",
    "version": 3
   },
   "file_extension": ".py",
   "mimetype": "text/x-python",
   "name": "python",
   "nbconvert_exporter": "python",
   "pygments_lexer": "ipython3",
   "version": "3.6.5"
  }
 },
 "nbformat": 4,
 "nbformat_minor": 2
}
