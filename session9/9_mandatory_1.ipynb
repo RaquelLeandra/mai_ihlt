{
 "cells": [
  {
   "cell_type": "markdown",
   "metadata": {},
   "source": [
    "# Mandarory Exercise: Parsing"
   ]
  },
  {
   "cell_type": "code",
   "execution_count": 1,
   "metadata": {},
   "outputs": [],
   "source": [
    "import nltk\n",
    "from nltk import CFG, ChartParser\n",
    "from nltk import BottomUpChartParser, BottomUpLeftCornerChartParser, LeftCornerChartParser"
   ]
  },
  {
   "cell_type": "markdown",
   "metadata": {},
   "source": [
    "Consider the following sentence: Lazy cats play with mice.\n",
    "\n",
    "Expand the grammar of the example related to non-probabilistic chart parsers in order to subsume this new sentence.\n",
    "\n",
    "* Perform the constituency parsing using a BottomUpChartParser, a BottomUpLeftCornerChartParser and a LeftCornerChartParser.\n",
    "* For each one of them, provide the resulting tree, the number of edges and the list of explored edges."
   ]
  },
  {
   "cell_type": "code",
   "execution_count": 2,
   "metadata": {},
   "outputs": [],
   "source": [
    "sentence = 'Lazy cats play with mice'\n",
    "sentence = sentence.lower().split()\n",
    "\n",
    "grammar = CFG.fromstring('''\n",
    " S -> NP VP | JJ NNS VP\n",
    " NP -> NNS | JJ NNS | NP CC NP\n",
    " VP -> V PP | V PREP NP \n",
    " PP -> PREP NP\n",
    " NNS -> \"cats\" | \"dogs\" |\"mice\" | NNS CC NNS\n",
    " JJ -> \"big\" | \"small\" | \"lazy\"\n",
    " CC -> \"and\" | \"or\" \n",
    " PREP -> \"with\"\n",
    " V -> \"play\"\n",
    "''')\n"
   ]
  },
  {
   "cell_type": "markdown",
   "metadata": {},
   "source": [
    "## BottomUPChartParser"
   ]
  },
  {
   "cell_type": "code",
   "execution_count": 7,
   "metadata": {},
   "outputs": [
    {
     "name": "stdout",
     "output_type": "stream",
     "text": [
      "Num edges 54\n"
     ]
    },
    {
     "data": {
      "image/png": "[encoded data removed]",
      "text/plain": [
       "Tree('S', [Tree('JJ', ['lazy']), Tree('NNS', ['cats']), Tree('VP', [Tree('V', ['play']), Tree('PP', [Tree('PREP', ['with']), Tree('NP', [Tree('NNS', ['mice'])])])])])"
      ]
     },
     "execution_count": 7,
     "metadata": {},
     "output_type": "execute_result"
    }
   ],
   "source": [
    "parser_BottomUP = BottomUpChartParser(grammar)\n",
    "parsed_BottomUP = parser_BottomUP.parse(sentence)\n",
    "print('Num edges', parser_BottomUP.chart_parse(sentence).num_edges())\n",
    "ts_b = []\n",
    "for t in parsed_BottomUP:\n",
    "    ts_b.append(t)\n",
    "ts_b[0]"
   ]
  },
  {
   "cell_type": "code",
   "execution_count": 8,
   "metadata": {
    "scrolled": false
   },
   "outputs": [
    {
     "data": {
      "text/plain": [
       "[[Edge: [0:1] 'lazy'],\n",
       " [Edge: [1:2] 'cats'],\n",
       " [Edge: [2:3] 'play'],\n",
       " [Edge: [3:4] 'with'],\n",
       " [Edge: [4:5] 'mice'],\n",
       " [Edge: [0:0] JJ -> * 'lazy'],\n",
       " [Edge: [0:1] JJ -> 'lazy' *],\n",
       " [Edge: [0:0] S  -> * JJ NNS VP],\n",
       " [Edge: [0:0] NP -> * JJ NNS],\n",
       " [Edge: [0:1] S  -> JJ * NNS VP],\n",
       " [Edge: [0:1] NP -> JJ * NNS],\n",
       " [Edge: [1:1] NNS -> * 'cats'],\n",
       " [Edge: [1:2] NNS -> 'cats' *],\n",
       " [Edge: [1:1] NP -> * NNS],\n",
       " [Edge: [1:1] NNS -> * NNS CC NNS],\n",
       " [Edge: [0:2] S  -> JJ NNS * VP],\n",
       " [Edge: [0:2] NP -> JJ NNS *],\n",
       " [Edge: [1:2] NP -> NNS *],\n",
       " [Edge: [1:2] NNS -> NNS * CC NNS],\n",
       " [Edge: [1:1] S  -> * NP VP],\n",
       " [Edge: [1:1] NP -> * NP CC NP],\n",
       " [Edge: [1:2] S  -> NP * VP],\n",
       " [Edge: [1:2] NP -> NP * CC NP],\n",
       " [Edge: [0:0] S  -> * NP VP],\n",
       " [Edge: [0:0] NP -> * NP CC NP],\n",
       " [Edge: [0:2] S  -> NP * VP],\n",
       " [Edge: [0:2] NP -> NP * CC NP],\n",
       " [Edge: [2:2] V  -> * 'play'],\n",
       " [Edge: [2:3] V  -> 'play' *],\n",
       " [Edge: [2:2] VP -> * V PP],\n",
       " [Edge: [2:2] VP -> * V PREP NP],\n",
       " [Edge: [2:3] VP -> V * PP],\n",
       " [Edge: [2:3] VP -> V * PREP NP],\n",
       " [Edge: [3:3] PREP -> * 'with'],\n",
       " [Edge: [3:4] PREP -> 'with' *],\n",
       " [Edge: [3:3] PP -> * PREP NP],\n",
       " [Edge: [2:4] VP -> V PREP * NP],\n",
       " [Edge: [3:4] PP -> PREP * NP],\n",
       " [Edge: [4:4] NNS -> * 'mice'],\n",
       " [Edge: [4:5] NNS -> 'mice' *],\n",
       " [Edge: [4:4] NP -> * NNS],\n",
       " [Edge: [4:4] NNS -> * NNS CC NNS],\n",
       " [Edge: [4:5] NP -> NNS *],\n",
       " [Edge: [4:5] NNS -> NNS * CC NNS],\n",
       " [Edge: [4:4] S  -> * NP VP],\n",
       " [Edge: [4:4] NP -> * NP CC NP],\n",
       " [Edge: [2:5] VP -> V PREP NP *],\n",
       " [Edge: [3:5] PP -> PREP NP *],\n",
       " [Edge: [4:5] S  -> NP * VP],\n",
       " [Edge: [4:5] NP -> NP * CC NP],\n",
       " [Edge: [2:5] VP -> V PP *],\n",
       " [Edge: [0:5] S  -> JJ NNS VP *],\n",
       " [Edge: [1:5] S  -> NP VP *],\n",
       " [Edge: [0:5] S  -> NP VP *]]"
      ]
     },
     "execution_count": 8,
     "metadata": {},
     "output_type": "execute_result"
    }
   ],
   "source": [
    "parser_BottomUP.chart_parse(sentence).edges()"
   ]
  },
  {
   "cell_type": "markdown",
   "metadata": {},
   "source": [
    "## Bottom UP Left Corner Chart Parser"
   ]
  },
  {
   "cell_type": "code",
   "execution_count": 9,
   "metadata": {},
   "outputs": [
    {
     "name": "stdout",
     "output_type": "stream",
     "text": [
      "Num edges 34\n"
     ]
    },
    {
     "data": {
      "image/png": "[encoded data removed]",
      "text/plain": [
       "Tree('S', [Tree('JJ', ['lazy']), Tree('NNS', ['cats']), Tree('VP', [Tree('V', ['play']), Tree('PREP', ['with']), Tree('NP', [Tree('NNS', ['mice'])])])])"
      ]
     },
     "execution_count": 9,
     "metadata": {},
     "output_type": "execute_result"
    }
   ],
   "source": [
    "parser_BottomUP_Left = BottomUpLeftCornerChartParser(grammar)\n",
    "parsed_BottomUP_Left = parser_BottomUP_Left.parse(sentence)\n",
    "print('Num edges', parser_BottomUP_Left.chart_parse(sentence).num_edges())\n",
    "ts_b_l = []\n",
    "for t in parsed_BottomUP_Left:\n",
    "    ts_b_l.append(t)\n",
    "ts_b_l[0]"
   ]
  },
  {
   "cell_type": "code",
   "execution_count": 10,
   "metadata": {
    "scrolled": false
   },
   "outputs": [
    {
     "data": {
      "text/plain": [
       "[[Edge: [0:1] 'lazy'],\n",
       " [Edge: [1:2] 'cats'],\n",
       " [Edge: [2:3] 'play'],\n",
       " [Edge: [3:4] 'with'],\n",
       " [Edge: [4:5] 'mice'],\n",
       " [Edge: [0:1] JJ -> 'lazy' *],\n",
       " [Edge: [0:1] S  -> JJ * NNS VP],\n",
       " [Edge: [0:1] NP -> JJ * NNS],\n",
       " [Edge: [1:2] NNS -> 'cats' *],\n",
       " [Edge: [1:2] NP -> NNS *],\n",
       " [Edge: [1:2] NNS -> NNS * CC NNS],\n",
       " [Edge: [0:2] S  -> JJ NNS * VP],\n",
       " [Edge: [0:2] NP -> JJ NNS *],\n",
       " [Edge: [0:2] S  -> NP * VP],\n",
       " [Edge: [0:2] NP -> NP * CC NP],\n",
       " [Edge: [1:2] S  -> NP * VP],\n",
       " [Edge: [1:2] NP -> NP * CC NP],\n",
       " [Edge: [2:3] V  -> 'play' *],\n",
       " [Edge: [2:3] VP -> V * PP],\n",
       " [Edge: [2:3] VP -> V * PREP NP],\n",
       " [Edge: [3:4] PREP -> 'with' *],\n",
       " [Edge: [3:4] PP -> PREP * NP],\n",
       " [Edge: [2:4] VP -> V PREP * NP],\n",
       " [Edge: [4:5] NNS -> 'mice' *],\n",
       " [Edge: [4:5] NP -> NNS *],\n",
       " [Edge: [4:5] NNS -> NNS * CC NNS],\n",
       " [Edge: [4:5] S  -> NP * VP],\n",
       " [Edge: [4:5] NP -> NP * CC NP],\n",
       " [Edge: [3:5] PP -> PREP NP *],\n",
       " [Edge: [2:5] VP -> V PREP NP *],\n",
       " [Edge: [0:5] S  -> JJ NNS VP *],\n",
       " [Edge: [0:5] S  -> NP VP *],\n",
       " [Edge: [1:5] S  -> NP VP *],\n",
       " [Edge: [2:5] VP -> V PP *]]"
      ]
     },
     "execution_count": 10,
     "metadata": {},
     "output_type": "execute_result"
    }
   ],
   "source": [
    "parser_BottomUP_Left.chart_parse(sentence).edges()"
   ]
  },
  {
   "cell_type": "markdown",
   "metadata": {},
   "source": [
    "##  LeftCornerChartParser"
   ]
  },
  {
   "cell_type": "code",
   "execution_count": 42,
   "metadata": {},
   "outputs": [
    {
     "name": "stdout",
     "output_type": "stream",
     "text": [
      "Num edges 28\n"
     ]
    },
    {
     "data": {
      "image/png": "[encoded data removed]",
      "text/plain": [
       "Tree('S', [Tree('JJ', ['lazy']), Tree('NNS', ['cats']), Tree('VP', [Tree('V', ['play']), Tree('PREP', ['with']), Tree('NP', [Tree('NNS', ['mice'])])])])"
      ]
     },
     "execution_count": 42,
     "metadata": {},
     "output_type": "execute_result"
    }
   ],
   "source": [
    "parser_Left = LeftCornerChartParser(grammar)\n",
    "parsed_Left = parser_Left.parse(sentence)\n",
    "print('Num edges', parser_Left.chart_parse(sentence).num_edges())\n",
    "ts_l = []\n",
    "for t in parsed_Left:\n",
    "    ts_l.append(t)\n",
    "ts_l[0]"
   ]
  },
  {
   "cell_type": "code",
   "execution_count": 49,
   "metadata": {
    "scrolled": false
   },
   "outputs": [
    {
     "data": {
      "text/plain": [
       "[[Edge: [0:1] 'lazy'],\n",
       " [Edge: [1:2] 'cats'],\n",
       " [Edge: [2:3] 'play'],\n",
       " [Edge: [3:4] 'with'],\n",
       " [Edge: [4:5] 'mice'],\n",
       " [Edge: [0:1] JJ -> 'lazy' *],\n",
       " [Edge: [0:1] S  -> JJ * NNS VP],\n",
       " [Edge: [0:1] NP -> JJ * NNS],\n",
       " [Edge: [1:2] NNS -> 'cats' *],\n",
       " [Edge: [1:2] NP -> NNS *],\n",
       " [Edge: [0:2] S  -> JJ NNS * VP],\n",
       " [Edge: [0:2] NP -> JJ NNS *],\n",
       " [Edge: [0:2] S  -> NP * VP],\n",
       " [Edge: [1:2] S  -> NP * VP],\n",
       " [Edge: [2:3] V  -> 'play' *],\n",
       " [Edge: [2:3] VP -> V * PP],\n",
       " [Edge: [2:3] VP -> V * PREP NP],\n",
       " [Edge: [3:4] PREP -> 'with' *],\n",
       " [Edge: [3:4] PP -> PREP * NP],\n",
       " [Edge: [2:4] VP -> V PREP * NP],\n",
       " [Edge: [4:5] NNS -> 'mice' *],\n",
       " [Edge: [4:5] NP -> NNS *],\n",
       " [Edge: [3:5] PP -> PREP NP *],\n",
       " [Edge: [2:5] VP -> V PREP NP *],\n",
       " [Edge: [0:5] S  -> JJ NNS VP *],\n",
       " [Edge: [0:5] S  -> NP VP *],\n",
       " [Edge: [1:5] S  -> NP VP *],\n",
       " [Edge: [2:5] VP -> V PP *]]"
      ]
     },
     "execution_count": 49,
     "metadata": {},
     "output_type": "execute_result"
    }
   ],
   "source": [
    "parser_Left.chart_parse(sentence).edges()"
   ]
  },
  {
   "cell_type": "markdown",
   "metadata": {},
   "source": [
    "**Which parser is the most efficient for parsing the sentence?**\n",
    "\n",
    "The left corner chart parser, because it only needs 28 edges to parse the sentence, when the other paresers need 34 and 54.\n",
    "\n",
    "**Which edges are filtered out by each parser and why?**\n",
    "The parsers filter all the edges without any word subsumtion. But using different strategies. \n",
    "\n",
    "The BottomUP strategy builds the tree from the bottom, so it will filter some edges like [0:2] NP -> JJ NNS (lazy cats), as the words will already have a position in the tree. \n",
    "\n",
    "The BottomUp Left Corner will filter the edges without any word subsumtions, so it won't have self loop edges like the Bottom up strategy. \n",
    "\n",
    "The LeftCorner parser will filter the edges without any new word subsumptions, so it will filter edges like [1:2] NNS -> NNS * CC NNS], as there are not any CC in the sentence. "
   ]
  }
 ],
 "metadata": {
  "kernelspec": {
   "display_name": "Python 3",
   "language": "python",
   "name": "python3"
  },
  "language_info": {
   "codemirror_mode": {
    "name": "ipython",
    "version": 3
   },
   "file_extension": ".py",
   "mimetype": "text/x-python",
   "name": "python",
   "nbconvert_exporter": "python",
   "pygments_lexer": "ipython3",
   "version": "3.6.5"
  },
  "toc": {
   "base_numbering": 1,
   "nav_menu": {},
   "number_sections": true,
   "sideBar": true,
   "skip_h1_title": false,
   "title_cell": "Table of Contents",
   "title_sidebar": "Contents",
   "toc_cell": false,
   "toc_position": {},
   "toc_section_display": true,
   "toc_window_display": false
  }
 },
 "nbformat": 4,
 "nbformat_minor": 2
}
