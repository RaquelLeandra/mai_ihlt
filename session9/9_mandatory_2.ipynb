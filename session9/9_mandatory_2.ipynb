{
 "cells": [
  {
   "cell_type": "markdown",
   "metadata": {},
   "source": [
    "# Mandatory 2 - Session 9"
   ]
  },
  {
   "cell_type": "markdown",
   "metadata": {},
   "source": [
    "Statement:\n",
    "* Read all pairs of sentences of the trial set within the\n",
    "evaluation framework of the project.\n",
    "* Compute the Jaccard similarity of each pair using the\n",
    "dependency triples from CoreNLPDependencyParser.\n",
    "* Show the results. Do you think it could be relevant to use\n",
    "NEs to compute the similarity between two sentences?\n",
    "Justify the answer"
   ]
  },
  {
   "cell_type": "markdown",
   "metadata": {},
   "source": [
    "First read the data sets using pandas ..."
   ]
  },
  {
   "cell_type": "code",
   "execution_count": 1,
   "metadata": {},
   "outputs": [],
   "source": [
    "import pandas as pd\n",
    "import csv\n",
    "from nltk.parse.corenlp import CoreNLPDependencyParser\n",
    "from copy import deepcopy"
   ]
  },
  {
   "cell_type": "code",
   "execution_count": 2,
   "metadata": {},
   "outputs": [
    {
     "data": {
      "text/html": [
       "<div>\n",
       "<style scoped>\n",
       "    .dataframe tbody tr th:only-of-type {\n",
       "        vertical-align: middle;\n",
       "    }\n",
       "\n",
       "    .dataframe tbody tr th {\n",
       "        vertical-align: top;\n",
       "    }\n",
       "\n",
       "    .dataframe thead th {\n",
       "        text-align: right;\n",
       "    }\n",
       "</style>\n",
       "<table border=\"1\" class=\"dataframe\">\n",
       "  <thead>\n",
       "    <tr style=\"text-align: right;\">\n",
       "      <th></th>\n",
       "      <th>sentence0</th>\n",
       "      <th>sentence1</th>\n",
       "    </tr>\n",
       "  </thead>\n",
       "  <tbody>\n",
       "    <tr>\n",
       "      <th>id1</th>\n",
       "      <td>The bird is bathing in the sink.</td>\n",
       "      <td>Birdie is washing itself in the water basin.\\r</td>\n",
       "    </tr>\n",
       "    <tr>\n",
       "      <th>id2</th>\n",
       "      <td>In May 2010, the troops attempted to invade Ka...</td>\n",
       "      <td>The US army invaded Kabul on May 7th last year...</td>\n",
       "    </tr>\n",
       "    <tr>\n",
       "      <th>id3</th>\n",
       "      <td>John said he is considered a witness but not a...</td>\n",
       "      <td>\"He is not a suspect anymore.\" John said.\\r</td>\n",
       "    </tr>\n",
       "    <tr>\n",
       "      <th>id4</th>\n",
       "      <td>They flew out of the nest in groups.</td>\n",
       "      <td>They flew into the nest together.\\r</td>\n",
       "    </tr>\n",
       "    <tr>\n",
       "      <th>id5</th>\n",
       "      <td>The woman is playing the violin.</td>\n",
       "      <td>The young lady enjoys listening to the guitar.\\r</td>\n",
       "    </tr>\n",
       "    <tr>\n",
       "      <th>id6</th>\n",
       "      <td>John went horse back riding at dawn with a who...</td>\n",
       "      <td>Sunrise at dawn is a magnificent view to take ...</td>\n",
       "    </tr>\n",
       "  </tbody>\n",
       "</table>\n",
       "</div>"
      ],
      "text/plain": [
       "                                             sentence0  \\\n",
       "id1                   The bird is bathing in the sink.   \n",
       "id2  In May 2010, the troops attempted to invade Ka...   \n",
       "id3  John said he is considered a witness but not a...   \n",
       "id4               They flew out of the nest in groups.   \n",
       "id5                   The woman is playing the violin.   \n",
       "id6  John went horse back riding at dawn with a who...   \n",
       "\n",
       "                                             sentence1  \n",
       "id1     Birdie is washing itself in the water basin.\\r  \n",
       "id2  The US army invaded Kabul on May 7th last year...  \n",
       "id3        \"He is not a suspect anymore.\" John said.\\r  \n",
       "id4                They flew into the nest together.\\r  \n",
       "id5   The young lady enjoys listening to the guitar.\\r  \n",
       "id6  Sunrise at dawn is a magnificent view to take ...  "
      ]
     },
     "execution_count": 2,
     "metadata": {},
     "output_type": "execute_result"
    }
   ],
   "source": [
    "trial_path    = 'data/trial/STS.input.txt'\n",
    "trial_gs_path = 'data/trial/STS.gs.txt'\n",
    "trial_df      = pd.read_csv(trial_path, sep='\\t', lineterminator='\\n', names=['sentence0','sentence1'], header=None, quoting=csv.QUOTE_NONE)\n",
    "trial_gs      = pd.read_csv(trial_gs_path, sep='\\t', lineterminator='\\n', names=['labels'], header=None, quoting=csv.QUOTE_NONE).iloc[::-1]\n",
    "trial_df"
   ]
  },
  {
   "cell_type": "markdown",
   "metadata": {},
   "source": [
    "Start the CoreNLPDependencyParser\n",
    "\n",
    "_java -Xmx5g -cp C:\\stanford-corenlp-full-2018-10-05\\* edu.stanford.nlp.pipeline.StanfordCoreNLPServer -port 9000_"
   ]
  },
  {
   "cell_type": "code",
   "execution_count": 3,
   "metadata": {},
   "outputs": [],
   "source": [
    "parser = CoreNLPDependencyParser(url='http://localhost:9000')"
   ]
  },
  {
   "cell_type": "markdown",
   "metadata": {},
   "source": []
  },
  {
   "cell_type": "code",
   "execution_count": 4,
   "metadata": {},
   "outputs": [],
   "source": [
    "def apply_dependency_triplets(sentence):\n",
    "    print(sentence)\n",
    "    parse = parser.raw_parse(sentence)\n",
    "    tree = next(parse)\n",
    "    for t in tree.triples():\n",
    "        print(t)\n",
    "\n",
    "def preprocessing(data):\n",
    "    ''' Preprocess all sentences to ... '''\n",
    "    data = data.fillna('')\n",
    "    for column in data.columns:\n",
    "        # get triplets\n",
    "        data[column] = data[column].apply(apply_dependency_triplets)\n",
    "        #data[column] = data[column].str.lower()\n",
    "    return data"
   ]
  },
  {
   "cell_type": "code",
   "execution_count": 7,
   "metadata": {},
   "outputs": [
    {
     "name": "stdout",
     "output_type": "stream",
     "text": [
      "(('bathing', 'NN'), 'nsubj', ('bird', 'NN'))\n",
      "(('bird', 'NN'), 'det', ('the', 'DT'))\n",
      "(('bathing', 'NN'), 'cop', ('is', 'VBZ'))\n",
      "(('bathing', 'NN'), 'nmod', ('sink', 'NN'))\n",
      "(('sink', 'NN'), 'case', ('in', 'IN'))\n",
      "(('sink', 'NN'), 'det', ('the', 'DT'))\n",
      "(('washing', 'VBG'), 'nsubj', ('birdie', 'NN'))\n",
      "(('washing', 'VBG'), 'aux', ('is', 'VBZ'))\n",
      "(('washing', 'VBG'), 'dobj', ('itself', 'PRP'))\n",
      "(('washing', 'VBG'), 'nmod', ('basin', 'NN'))\n",
      "(('basin', 'NN'), 'case', ('in', 'IN'))\n",
      "(('basin', 'NN'), 'det', ('the', 'DT'))\n",
      "(('basin', 'NN'), 'compound', ('water', 'NN'))\n"
     ]
    }
   ],
   "source": [
    "sentence = \"the bird is bathing in the sink\"\n",
    "parse = parser.raw_parse(sentence)\n",
    "tree = next(parse)\n",
    "for t in tree.triples():\n",
    "    print(t)\n",
    "sentence = \"birdie is washing itself in the water basin\"\n",
    "parse = parser.raw_parse(sentence)\n",
    "tree = next(parse)\n",
    "for t in tree.triples():\n",
    "    print(t)"
   ]
  },
  {
   "cell_type": "code",
   "execution_count": null,
   "metadata": {},
   "outputs": [],
   "source": [
    "result = preprocessing(deepcopy(trial_df))\n",
    "result"
   ]
  },
  {
   "cell_type": "code",
   "execution_count": null,
   "metadata": {},
   "outputs": [],
   "source": []
  },
  {
   "cell_type": "code",
   "execution_count": null,
   "metadata": {},
   "outputs": [],
   "source": []
  }
 ],
 "metadata": {
  "kernelspec": {
   "display_name": "Python 3",
   "language": "python",
   "name": "python3"
  },
  "language_info": {
   "codemirror_mode": {
    "name": "ipython",
    "version": 3
   },
   "file_extension": ".py",
   "mimetype": "text/x-python",
   "name": "python",
   "nbconvert_exporter": "python",
   "pygments_lexer": "ipython3",
   "version": "3.6.5"
  },
  "toc": {
   "base_numbering": 1,
   "nav_menu": {},
   "number_sections": true,
   "sideBar": true,
   "skip_h1_title": false,
   "title_cell": "Table of Contents",
   "title_sidebar": "Contents",
   "toc_cell": false,
   "toc_position": {},
   "toc_section_display": true,
   "toc_window_display": false
  }
 },
 "nbformat": 4,
 "nbformat_minor": 2
}
