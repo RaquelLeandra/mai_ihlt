{
 "cells": [
  {
   "cell_type": "markdown",
   "metadata": {},
   "source": [
    "# Optional Exercise"
   ]
  },
  {
   "cell_type": "markdown",
   "metadata": {},
   "source": [
    "Statement (unsupervised polarity system):\n",
    "1. Get the first synset (most frequent) of one of the next alternatives:\n",
    "nouns, verbs, adjectives and adverbs\n",
    "nouns, adjectives and adverbs\n",
    "only adjectives\n",
    "2. Sum all the positive scores and negative ones to get the polarity\n",
    "3.Apply the system to the movie reviews corpus and give the accuracy\n",
    "4. Give some conclusions about the work"
   ]
  },
  {
   "cell_type": "code",
   "execution_count": 2,
   "metadata": {},
   "outputs": [],
   "source": [
    "from nltk.corpus import movie_reviews as mr\n",
    "\n",
    "mr.file"
   ]
  }
 ],
 "metadata": {
  "kernelspec": {
   "display_name": "Python 3",
   "language": "python",
   "name": "python3"
  },
  "language_info": {
   "codemirror_mode": {
    "name": "ipython",
    "version": 3
   },
   "file_extension": ".py",
   "mimetype": "text/x-python",
   "name": "python",
   "nbconvert_exporter": "python",
   "pygments_lexer": "ipython3",
   "version": "3.6.5"
  }
 },
 "nbformat": 4,
 "nbformat_minor": 2
}
