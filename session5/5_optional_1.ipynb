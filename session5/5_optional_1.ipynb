{
 "cells": [
  {
   "cell_type": "markdown",
   "metadata": {},
   "source": [
    "# Optional 1 - Session 5"
   ]
  },
  {
   "cell_type": "code",
   "execution_count": 1,
   "metadata": {},
   "outputs": [],
   "source": [
    "from nltk.corpus import wordnet as wn"
   ]
  },
  {
   "cell_type": "markdown",
   "metadata": {},
   "source": [
    "First, a function is created that for a given word, searchs its hypernyms and returns a tree and a closure with them"
   ]
  },
  {
   "cell_type": "code",
   "execution_count": 2,
   "metadata": {},
   "outputs": [],
   "source": [
    "def genData(word):\n",
    "    hyper   = lambda s: s.hypernyms()\n",
    "    synset  = wn.synset(word)\n",
    "    tree    = synset.tree(hyper)\n",
    "    closure = synset.closure(hyper)\n",
    "    return tree, list(closure)"
   ]
  },
  {
   "cell_type": "markdown",
   "metadata": {},
   "source": [
    "The next function, returns the common values in two lists"
   ]
  },
  {
   "cell_type": "code",
   "execution_count": 3,
   "metadata": {},
   "outputs": [],
   "source": [
    "def listIntersec(list1, list2):\n",
    "    return list(set(list1).intersection(set(list2)))"
   ]
  },
  {
   "cell_type": "markdown",
   "metadata": {},
   "source": [
    "The next function, finds the path from the start of the tree to a synset (recursively)"
   ]
  },
  {
   "cell_type": "code",
   "execution_count": 4,
   "metadata": {},
   "outputs": [],
   "source": [
    "def pathTo(synset, tree, path = None):\n",
    "    \n",
    "    if path is None:\n",
    "        path = []\n",
    "    \n",
    "    path += [tree[0]]\n",
    "    \n",
    "    if tree[0] == synset:\n",
    "        return True, path # Found \n",
    "    \n",
    "    for i in range(1, len(tree)):\n",
    "        found, path = pathTo(synset, tree[i], path)\n",
    "        if found: return True, path # Found in child\n",
    "        \n",
    "    return False, path # Not found"
   ]
  },
  {
   "cell_type": "markdown",
   "metadata": {},
   "source": [
    "Finally, a function that searchs the path between two synsets"
   ]
  },
  {
   "cell_type": "code",
   "execution_count": 5,
   "metadata": {},
   "outputs": [],
   "source": [
    "def lexCompare(A, B):\n",
    "    treeA, closureA = genData(A)\n",
    "    treeB, closureB = genData(B)\n",
    "    closureA       += [treeA[0]] # Include the root in the closure\n",
    "    closureB       += [treeB[0]] # Include the root in the closure\n",
    "    common_hyper    = listIntersec(closureA, closureB) # Find which common hypernyms they both have in common\n",
    "    \n",
    "    min_dist   = float('+inf')\n",
    "    min_common = None\n",
    "    min_pathA  = []\n",
    "    min_pathB  = []\n",
    "    \n",
    "    for i in common_hyper: # For each common hypernym, find the path from the root to the hypernym for both synsets\n",
    "        pathA = pathTo(i, treeA, [])[1]\n",
    "        pathB = pathTo(i, treeB, [])[1]\n",
    "        dist = len(pathA) + len(pathB) - 2\n",
    "        if dist < min_dist: # If the total path is better than the one we had before, update it\n",
    "            min_dist = dist\n",
    "            min_common = i\n",
    "            min_pathA = pathA\n",
    "            min_pathB = pathB\n",
    "    \n",
    "    full_path = min_pathA[:-1] + min_pathB[::-1] # Remove the repeated common word\n",
    "    return full_path, min_common, min_dist\n"
   ]
  },
  {
   "cell_type": "code",
   "execution_count": 16,
   "metadata": {},
   "outputs": [
    {
     "name": "stdout",
     "output_type": "stream",
     "text": [
      "PATH:\n",
      " \n",
      "\n",
      "Common: None\n",
      "Path size: inf\n"
     ]
    }
   ],
   "source": [
    "full_path, min_common, min_dist = lexCompare(\"moon.n.1\", \"dog.n.1\")\n",
    "\n",
    "\n",
    "print('PATH:\\n', str(full_path).replace('[','').replace(']','').replace('\\'),', ' <=>').replace('Synset(\\'', '')[:-2])\n",
    "print('\\nCommon:', min_common)\n",
    "print('Path size:', min_dist)"
   ]
  },
  {
   "cell_type": "code",
   "execution_count": null,
   "metadata": {},
   "outputs": [],
   "source": []
  }
 ],
 "metadata": {
  "kernelspec": {
   "display_name": "Python 3",
   "language": "python",
   "name": "python3"
  },
  "language_info": {
   "codemirror_mode": {
    "name": "ipython",
    "version": 3
   },
   "file_extension": ".py",
   "mimetype": "text/x-python",
   "name": "python",
   "nbconvert_exporter": "python",
   "pygments_lexer": "ipython3",
   "version": "3.6.5"
  }
 },
 "nbformat": 4,
 "nbformat_minor": 2
}
