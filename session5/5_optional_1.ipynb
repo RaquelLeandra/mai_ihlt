{
 "cells": [
  {
   "cell_type": "code",
   "execution_count": 1,
   "metadata": {},
   "outputs": [],
   "source": [
    "from nltk.corpus import wordnet as wn"
   ]
  },
  {
   "cell_type": "code",
   "execution_count": 72,
   "metadata": {},
   "outputs": [],
   "source": [
    "def genData(word):\n",
    "    hyper   = lambda s: s.hypernyms()\n",
    "    synset  = wn.synset(word)\n",
    "    tree    = synset.tree(hyper)\n",
    "    closure = synset.closure(hyper)\n",
    "    return tree, list(closure)\n",
    "\n",
    "def pathTo(synset, tree, path = None):\n",
    "    \n",
    "    if path is None:\n",
    "        path = []\n",
    "    \n",
    "    path += [tree[0]]\n",
    "    \n",
    "    if tree[0] == synset:\n",
    "        return True, path # Found \n",
    "    \n",
    "    for i in range(1, len(tree)):\n",
    "        found, path = pathTo(synset, tree[i], path)\n",
    "        if found: return True, path # Found in child\n",
    "        \n",
    "    return False, path\n",
    "\n",
    "def listIntersec(list1, list2):\n",
    "    return list(set(list1).intersection(set(list2)))\n",
    "    \n",
    "\n",
    "def lexCompare(A, B):\n",
    "    treeA, closureA = genData(A)\n",
    "    treeB, closureB = genData(B)\n",
    "    closureA       += [treeA[0]]\n",
    "    closureB       += [treeB[0]]\n",
    "    common_hyper    = listIntersec(closureA, closureB)\n",
    "    \n",
    "    min_dist   = float('+inf')\n",
    "    min_common = None\n",
    "    min_pathA  = []\n",
    "    min_pathB  = []\n",
    "    \n",
    "    for i in common_hyper:\n",
    "        pathA = pathTo(i, treeA, [])[1]\n",
    "        pathB = pathTo(i, treeB, [])[1]\n",
    "        dist = len(pathA) + len(pathB) - 2\n",
    "        if dist < min_dist:\n",
    "            min_dist = dist\n",
    "            min_common = i\n",
    "            min_pathA = pathA\n",
    "            min_pathB = pathB\n",
    "    \n",
    "    full_path = min_pathA[:-1] + min_pathB[::-1]\n",
    "    return full_path, min_common, min_dist\n",
    "    \n",
    "    \n"
   ]
  },
  {
   "cell_type": "code",
   "execution_count": 74,
   "metadata": {},
   "outputs": [
    {
     "name": "stdout",
     "output_type": "stream",
     "text": [
      "airplane.n.01 <=> heavier-than-air_craft.n.01 <=> aircraft.n.01 <=> craft.n.02 <=> vessel.n.02 <=> ship.n.01\n",
      "Common: Synset('craft.n.02')\n",
      "Path size: 5\n"
     ]
    }
   ],
   "source": [
    "full_path, min_common, min_dist = lexCompare(\"plane.n.1\", \"ship.n.1\")\n",
    "\n",
    "\n",
    "print(str(full_path).replace('[','').replace(']','').replace('\\'),', ' <=>').replace('Synset(\\'', '')[:-2])\n",
    "print('Common:', min_common)\n",
    "print('Path size:', min_dist)"
   ]
  },
  {
   "cell_type": "code",
   "execution_count": null,
   "metadata": {},
   "outputs": [],
   "source": []
  }
 ],
 "metadata": {
  "kernelspec": {
   "display_name": "Python 3",
   "language": "python",
   "name": "python3"
  },
  "language_info": {
   "codemirror_mode": {
    "name": "ipython",
    "version": 3
   },
   "file_extension": ".py",
   "mimetype": "text/x-python",
   "name": "python",
   "nbconvert_exporter": "python",
   "pygments_lexer": "ipython3",
   "version": "3.6.5"
  }
 },
 "nbformat": 4,
 "nbformat_minor": 2
}
