{
 "cells": [
  {
   "cell_type": "markdown",
   "metadata": {},
   "source": [
    "# Mandatory - Session 10"
   ]
  },
  {
   "cell_type": "code",
   "execution_count": 30,
   "metadata": {},
   "outputs": [],
   "source": [
    "from nltk.parse import CoreNLPParser"
   ]
  },
  {
   "cell_type": "markdown",
   "metadata": {},
   "source": [
    "The function used to display the results"
   ]
  },
  {
   "cell_type": "code",
   "execution_count": 31,
   "metadata": {},
   "outputs": [],
   "source": [
    "def show(d):\n",
    "    crs = d['corefs']\n",
    "    for k, num in zip(crs, range(1, len(crs) + 1)):\n",
    "        print('Chain', num, ':')\n",
    "        l = crs[k]\n",
    "        for e in l:\n",
    "            print('\\t', e['text'], e['gender'], e['number'], e['isRepresentativeMention'], e['type'])"
   ]
  },
  {
   "cell_type": "markdown",
   "metadata": {},
   "source": [
    "Start CoreNLPParser"
   ]
  },
  {
   "cell_type": "code",
   "execution_count": 32,
   "metadata": {},
   "outputs": [],
   "source": [
    "tagger = CoreNLPParser(url=\"http://localhost:9000\")\n",
    "tagger.parser_annotator='tokenize,ssplit,pos,lemma,ner,depparse,coref'"
   ]
  },
  {
   "cell_type": "markdown",
   "metadata": {},
   "source": [
    "Parse the paragraph ..."
   ]
  },
  {
   "cell_type": "code",
   "execution_count": 33,
   "metadata": {
    "scrolled": true
   },
   "outputs": [
    {
     "name": "stdout",
     "output_type": "stream",
     "text": [
      "Alice was beginning to get very tired of sitting by her sister on the bank, and of having nothing to do: once or twice she had peeped into the book her sister was reading, but it had no pictures or conversations in it, \"and what is the use of a book,\" thought Alice \"without pictures or conversations?\"\n",
      "Chain 1 :\n",
      "\t Alice FEMALE SINGULAR True PROPER\n",
      "\t her FEMALE SINGULAR False PRONOMINAL\n",
      "\t she FEMALE SINGULAR False PRONOMINAL\n",
      "\t her FEMALE SINGULAR False PRONOMINAL\n",
      "\t Alice FEMALE SINGULAR False PROPER\n",
      "Chain 2 :\n",
      "\t her sister FEMALE SINGULAR True NOMINAL\n",
      "\t her sister FEMALE SINGULAR False NOMINAL\n",
      "Chain 3 :\n",
      "\t the book her sister was reading NEUTRAL SINGULAR True NOMINAL\n",
      "\t it NEUTRAL SINGULAR False PRONOMINAL\n",
      "\t it NEUTRAL SINGULAR False PRONOMINAL\n"
     ]
    }
   ],
   "source": [
    "text = ('Alice was beginning to get very tired of sitting '\n",
    "        'by her sister on the bank, and of having nothing to do: '\n",
    "        'once or twice she had peeped into the book her sister was '\n",
    "        'reading, but it had no pictures or conversations in it, '\n",
    "        '\"and what is the use of a book,\" thought Alice \"without pictures or conversations?\"'\n",
    "       )\n",
    "\n",
    "print(text)\n",
    "res = tagger.api_call(text)\n",
    "show(res)"
   ]
  },
  {
   "cell_type": "markdown",
   "metadata": {},
   "source": [
    "First, in order for the parser the work correctly, the simple quotes where changed to double quotes.\n",
    "\n",
    "Three chains have been detected as follows (Some NP are inside others):\n",
    "\n",
    "[__Alice__]1 was beginning to get very tired of sitting by [[__her__]1 __sister__]2 on the bank, and of having nothing to do: once or twice [__she__]1 had peeped into [__the book__ [[__her__]1 __sister__]2 __was reading__]3, but [__it__]3 had no pictures or conversations in [__it__]3, \"and what is the use of a book,\" thought [__Alice__]1 \"without pictures or conversations?\"\n",
    "\n",
    "All have been correctly detected, regarding the chain they belong to, the gender, number and type.\n",
    "\n",
    "The representative mentions are correct aswell:\n",
    " * Alice\n",
    " * her sister\n",
    " * the book her sister was reading\n",
    " \n",
    "This was a very good result for the input text."
   ]
  }
 ],
 "metadata": {
  "kernelspec": {
   "display_name": "Python 3",
   "language": "python",
   "name": "python3"
  },
  "language_info": {
   "codemirror_mode": {
    "name": "ipython",
    "version": 3
   },
   "file_extension": ".py",
   "mimetype": "text/x-python",
   "name": "python",
   "nbconvert_exporter": "python",
   "pygments_lexer": "ipython3",
   "version": "3.6.5"
  }
 },
 "nbformat": 4,
 "nbformat_minor": 2
}
