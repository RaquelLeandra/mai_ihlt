{
 "cells": [
  {
   "cell_type": "code",
   "execution_count": 5,
   "metadata": {},
   "outputs": [],
   "source": [
    "def show(d):\n",
    "    crs = d['corefs']\n",
    "    for k, num in zip(crs, range(1, len(crs) + 1)):\n",
    "        print('Chain', num, ':')\n",
    "        l = crs[k]\n",
    "        for e in l:\n",
    "            print('\\t', e['text'], e['gender'], e['number'], e['isRepresentativeMention'], e['type'])"
   ]
  },
  {
   "cell_type": "code",
   "execution_count": 6,
   "metadata": {},
   "outputs": [],
   "source": [
    "from nltk.parse import CoreNLPParser\n",
    "tagger = CoreNLPParser(url=\"http://localhost:9000\")\n",
    "tagger.parser_annotator='tokenize,ssplit,pos,lemma,ner,depparse,coref'"
   ]
  },
  {
   "cell_type": "code",
   "execution_count": 7,
   "metadata": {
    "scrolled": true
   },
   "outputs": [
    {
     "name": "stdout",
     "output_type": "stream",
     "text": [
      "Chain 1 :\n",
      "\t Barack Obama MALE SINGULAR True PROPER\n",
      "\t He MALE SINGULAR False PRONOMINAL\n",
      "\t Obama MALE SINGULAR False PROPER\n"
     ]
    }
   ],
   "source": [
    "text = \"Barack Obama was born in Hawaii, He is the president. Obama was elected in 2008\"\n",
    "res = tagger.api_call(text)\n",
    "show(res)"
   ]
  },
  {
   "cell_type": "code",
   "execution_count": null,
   "metadata": {},
   "outputs": [],
   "source": []
  }
 ],
 "metadata": {
  "kernelspec": {
   "display_name": "Python 3",
   "language": "python",
   "name": "python3"
  },
  "language_info": {
   "codemirror_mode": {
    "name": "ipython",
    "version": 3
   },
   "file_extension": ".py",
   "mimetype": "text/x-python",
   "name": "python",
   "nbconvert_exporter": "python",
   "pygments_lexer": "ipython3",
   "version": "3.6.5"
  }
 },
 "nbformat": 4,
 "nbformat_minor": 2
}
