{
 "cells": [
  {
   "cell_type": "code",
   "execution_count": 123,
   "metadata": {},
   "outputs": [],
   "source": [
    "from scipy.stats import pearsonr\n",
    "import pandas as pd\n",
    "from nltk.stem import WordNetLemmatizer\n",
    "from nltk.tokenize import WhitespaceTokenizer\n",
    "from nltk.metrics import jaccard_distance\n",
    "import csv\n",
    "from nltk import ne_chunk,pos_tag,word_tokenize\n",
    "from nltk.chunk import tree2conllstr\n",
    "from nltk.tree import Tree\n",
    "pd.set_option('display.max_columns',100)"
   ]
  },
  {
   "cell_type": "code",
   "execution_count": 129,
   "metadata": {
    "scrolled": false
   },
   "outputs": [
    {
     "data": {
      "text/html": [
       "<div>\n",
       "<style scoped>\n",
       "    .dataframe tbody tr th:only-of-type {\n",
       "        vertical-align: middle;\n",
       "    }\n",
       "\n",
       "    .dataframe tbody tr th {\n",
       "        vertical-align: top;\n",
       "    }\n",
       "\n",
       "    .dataframe thead th {\n",
       "        text-align: right;\n",
       "    }\n",
       "</style>\n",
       "<table border=\"1\" class=\"dataframe\">\n",
       "  <thead>\n",
       "    <tr style=\"text-align: right;\">\n",
       "      <th></th>\n",
       "      <th>sentence0</th>\n",
       "      <th>sentence1</th>\n",
       "    </tr>\n",
       "  </thead>\n",
       "  <tbody>\n",
       "    <tr>\n",
       "      <th>id1</th>\n",
       "      <td>[the, bird, is, bathing, in, the, sink]</td>\n",
       "      <td>[birdie, is, washing, itself, in, the, water, ...</td>\n",
       "    </tr>\n",
       "    <tr>\n",
       "      <th>id2</th>\n",
       "      <td>[in, may, 2010, the, troops, attempted, to, in...</td>\n",
       "      <td>[the, us, army, invaded, kabul, on, may, 7th, ...</td>\n",
       "    </tr>\n",
       "    <tr>\n",
       "      <th>id3</th>\n",
       "      <td>[john, said, he, is, considered, a, witness, b...</td>\n",
       "      <td>[he, is, not, a, suspect, anymore, john, said]</td>\n",
       "    </tr>\n",
       "    <tr>\n",
       "      <th>id4</th>\n",
       "      <td>[they, flew, out, of, the, nest, in, groups]</td>\n",
       "      <td>[they, flew, into, the, nest, together]</td>\n",
       "    </tr>\n",
       "    <tr>\n",
       "      <th>id5</th>\n",
       "      <td>[the, woman, is, playing, the, violin]</td>\n",
       "      <td>[the, young, lady, enjoys, listening, to, the,...</td>\n",
       "    </tr>\n",
       "    <tr>\n",
       "      <th>id6</th>\n",
       "      <td>[john, went, horse, back, riding, at, dawn, wi...</td>\n",
       "      <td>[sunrise, at, dawn, is, a, magnificent, view, ...</td>\n",
       "    </tr>\n",
       "  </tbody>\n",
       "</table>\n",
       "</div>"
      ],
      "text/plain": [
       "                                             sentence0  \\\n",
       "id1            [the, bird, is, bathing, in, the, sink]   \n",
       "id2  [in, may, 2010, the, troops, attempted, to, in...   \n",
       "id3  [john, said, he, is, considered, a, witness, b...   \n",
       "id4       [they, flew, out, of, the, nest, in, groups]   \n",
       "id5             [the, woman, is, playing, the, violin]   \n",
       "id6  [john, went, horse, back, riding, at, dawn, wi...   \n",
       "\n",
       "                                             sentence1  \n",
       "id1  [birdie, is, washing, itself, in, the, water, ...  \n",
       "id2  [the, us, army, invaded, kabul, on, may, 7th, ...  \n",
       "id3     [he, is, not, a, suspect, anymore, john, said]  \n",
       "id4            [they, flew, into, the, nest, together]  \n",
       "id5  [the, young, lady, enjoys, listening, to, the,...  \n",
       "id6  [sunrise, at, dawn, is, a, magnificent, view, ...  "
      ]
     },
     "execution_count": 129,
     "metadata": {},
     "output_type": "execute_result"
    }
   ],
   "source": [
    "trial_path = 'data/trial/STS.input.txt'\n",
    "trial_gs_path = 'data/trial/STS.gs.txt'\n",
    "trial_df = pd.read_csv(trial_path, sep='\\t', lineterminator='\\n', names=['sentence0','sentence1'], header=None, quoting=csv.QUOTE_NONE)\n",
    "trial_gs = pd.read_csv(trial_gs_path, sep='\\t', lineterminator='\\n', names=['labels'], header=None, quoting=csv.QUOTE_NONE)\n",
    "\n",
    "def na_parser(tree):\n",
    "    parsed_array = []\n",
    "    for chunk in tree: \n",
    "        if type(chunk) == Tree:\n",
    "            word = ' '.join(leaf[0] for leaf in chunk)\n",
    "            parsed_array.append(word.lower())\n",
    "        else: \n",
    "            parsed_array.append(chunk[0].lower())\n",
    "    return parsed_array\n",
    "\n",
    "def preprocessing(data):\n",
    "    # To see the effect of the desambiguation we do a preprocess only with it. Generaly we will use a more complete \n",
    "    # preprocessing function. \n",
    "    data = data.fillna('')\n",
    "    first = lambda x: [a[0] for a in x]\n",
    "    for column in data.columns:\n",
    "        # words to lower\n",
    "        #data[column] = data[column].str.lower()\n",
    "        # desambiguate \n",
    "        data[column] = data[column].str.replace('\\W', ' ')\n",
    "        data[column] = data[column].apply(lambda x : pos_tag(word_tokenize(x)))\n",
    "        data[column] = data[column].apply(lambda x : na_parser(ne_chunk(x,True)))\n",
    "    return data\n",
    "\n",
    "trial_df = preprocessing(trial_df)\n",
    "trial_df"
   ]
  },
  {
   "cell_type": "code",
   "execution_count": 125,
   "metadata": {},
   "outputs": [],
   "source": [
    "def lexical_simmilarity(df):\n",
    "    guess = pd.DataFrame()\n",
    "    for i in df.index:\n",
    "        guess.loc[i,'labels'] = jaccard_distance(set(df.loc[i,'sentence0']), set(df.loc[i,'sentence1']))\n",
    "    return guess"
   ]
  },
  {
   "cell_type": "code",
   "execution_count": 126,
   "metadata": {
    "scrolled": false
   },
   "outputs": [
    {
     "data": {
      "text/html": [
       "<div>\n",
       "<style scoped>\n",
       "    .dataframe tbody tr th:only-of-type {\n",
       "        vertical-align: middle;\n",
       "    }\n",
       "\n",
       "    .dataframe tbody tr th {\n",
       "        vertical-align: top;\n",
       "    }\n",
       "\n",
       "    .dataframe thead th {\n",
       "        text-align: right;\n",
       "    }\n",
       "</style>\n",
       "<table border=\"1\" class=\"dataframe\">\n",
       "  <thead>\n",
       "    <tr style=\"text-align: right;\">\n",
       "      <th></th>\n",
       "      <th>labels</th>\n",
       "    </tr>\n",
       "  </thead>\n",
       "  <tbody>\n",
       "    <tr>\n",
       "      <th>id1</th>\n",
       "      <td>0.727273</td>\n",
       "    </tr>\n",
       "    <tr>\n",
       "      <th>id2</th>\n",
       "      <td>0.750000</td>\n",
       "    </tr>\n",
       "    <tr>\n",
       "      <th>id3</th>\n",
       "      <td>0.363636</td>\n",
       "    </tr>\n",
       "    <tr>\n",
       "      <th>id4</th>\n",
       "      <td>0.600000</td>\n",
       "    </tr>\n",
       "    <tr>\n",
       "      <th>id5</th>\n",
       "      <td>0.909091</td>\n",
       "    </tr>\n",
       "  </tbody>\n",
       "</table>\n",
       "</div>"
      ],
      "text/plain": [
       "       labels\n",
       "id1  0.727273\n",
       "id2  0.750000\n",
       "id3  0.363636\n",
       "id4  0.600000\n",
       "id5  0.909091"
      ]
     },
     "execution_count": 126,
     "metadata": {},
     "output_type": "execute_result"
    }
   ],
   "source": [
    "guess_lex = lexical_simmilarity(trial_df)\n",
    "guess_lex.head()"
   ]
  },
  {
   "cell_type": "code",
   "execution_count": 127,
   "metadata": {},
   "outputs": [
    {
     "name": "stdout",
     "output_type": "stream",
     "text": [
      "0.40498149435177305\n"
     ]
    }
   ],
   "source": [
    "print(pearsonr(trial_gs['labels'], guess_lex['labels'])[0])"
   ]
  },
  {
   "cell_type": "markdown",
   "metadata": {},
   "source": [
    "The results are even worse than the first ones and i don't know why. "
   ]
  }
 ],
 "metadata": {
  "kernelspec": {
   "display_name": "Python 3",
   "language": "python",
   "name": "python3"
  },
  "language_info": {
   "codemirror_mode": {
    "name": "ipython",
    "version": 3
   },
   "file_extension": ".py",
   "mimetype": "text/x-python",
   "name": "python",
   "nbconvert_exporter": "python",
   "pygments_lexer": "ipython3",
   "version": "3.6.5"
  }
 },
 "nbformat": 4,
 "nbformat_minor": 2
}
